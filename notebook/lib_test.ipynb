{
 "cells": [
  {
   "cell_type": "code",
   "execution_count": 37,
   "metadata": {
    "collapsed": false
   },
   "outputs": [
    {
     "data": {
      "text/plain": [
       "<module 'nexstarevo' from 'nexstarevo.py'>"
      ]
     },
     "execution_count": 37,
     "metadata": {},
     "output_type": "execute_result"
    }
   ],
   "source": [
    "import asyncore\n",
    "import nexstarevo as nse \n",
    "reload(nse)"
   ]
  },
  {
   "cell_type": "code",
   "execution_count": 38,
   "metadata": {
    "collapsed": false
   },
   "outputs": [],
   "source": [
    "scope=nse.NSEScope()"
   ]
  },
  {
   "cell_type": "code",
   "execution_count": 39,
   "metadata": {
    "collapsed": false
   },
   "outputs": [
    {
     "name": "stdout",
     "output_type": "stream",
     "text": [
      "Hello!\n",
      "msg: A [3]  HC+ =>  AZM (MC_GET_POSITION): \n",
      "msg: A [6]  AZM =>  HC+ (MC_GET_POSITION): 201°54'48.1\"\n",
      "msg: A [3]  HC+ =>  ALT (MC_GET_POSITION): \n",
      "msg: A [6]  ALT =>  HC+ (MC_GET_POSITION): 058°51'25.5\"\n",
      "msg: A [6]  HC+ =>  AZM (MC_SET_POS_GUIDERATE): 000°34'44.0\"\n",
      "msg: A [3]  AZM =>  HC+ (MC_SET_POS_GUIDERATE): \n",
      "msg: A [6]  HC+ =>  ALT (MC_SET_NEG_GUIDERATE): 000°04'46.7\"\n",
      "msg: A [3]  ALT =>  HC+ (MC_SET_NEG_GUIDERATE): \n",
      "msg: A [3]  HC+ =>  AZM (MC_GET_POSITION): \n",
      "msg: A [6]  AZM =>  HC+ (MC_GET_POSITION): 202°08'00.5\"\n",
      "msg: A [3]  HC+ =>  ALT (MC_GET_POSITION): \n",
      "msg: A [6]  ALT =>  HC+ (MC_GET_POSITION): 058°49'36.4\"\n",
      "msg: A [6]  HC+ =>  AZM (MC_SET_POS_GUIDERATE): 000°34'40.7\"\n",
      "msg: A [3]  AZM =>  HC+ (MC_SET_POS_GUIDERATE): \n",
      "msg: A [6]  HC+ =>  ALT (MC_SET_NEG_GUIDERATE): 000°04'49.4\"\n",
      "msg: A [3]  ALT =>  HC+ (MC_SET_NEG_GUIDERATE): \n",
      "msg: A [4]  HC+ =>  ALT ( MC_MOVE_NEG): \n",
      "msg: A [3]  ALT =>  HC+ ( MC_MOVE_NEG): \n",
      "msg: A [4]  HC+ =>  ALT ( MC_MOVE_POS): \n",
      "msg: A [3]  ALT =>  HC+ ( MC_MOVE_POS): \n",
      "msg: A [3]  HC+ =>  AZM (MC_GET_POSITION): \n",
      "msg: A [6]  AZM =>  HC+ (MC_GET_POSITION): 202°18'42.5\"\n",
      "msg: A [3]  HC+ =>  ALT (MC_GET_POSITION): \n",
      "msg: A [6]  ALT =>  HC+ (MC_GET_POSITION): 058°27'23.4\"\n",
      "msg: A [6]  HC+ =>  AZM (MC_SET_POS_GUIDERATE): 000°34'22.4\"\n",
      "msg: A [3]  AZM =>  HC+ (MC_SET_POS_GUIDERATE): \n",
      "msg: A [6]  HC+ =>  ALT (MC_SET_NEG_GUIDERATE): 000°04'51.6\"\n",
      "msg: A [3]  ALT =>  HC+ (MC_SET_NEG_GUIDERATE): \n",
      "msg: A [3]  HC+ =>  AZM (MC_GET_POSITION): \n",
      "msg: A [6]  AZM =>  HC+ (MC_GET_POSITION): 202°31'46.8\"\n"
     ]
    }
   ],
   "source": [
    "asyncore.loop(count=10)\n",
    "scope.close()"
   ]
  },
  {
   "cell_type": "code",
   "execution_count": null,
   "metadata": {
    "collapsed": true
   },
   "outputs": [],
   "source": []
  }
 ],
 "metadata": {
  "kernelspec": {
   "display_name": "Python 2",
   "language": "python",
   "name": "python2"
  },
  "language_info": {
   "codemirror_mode": {
    "name": "ipython",
    "version": 2
   },
   "file_extension": ".py",
   "mimetype": "text/x-python",
   "name": "python",
   "nbconvert_exporter": "python",
   "pygments_lexer": "ipython2",
   "version": "2.7.9"
  }
 },
 "nbformat": 4,
 "nbformat_minor": 0
}
