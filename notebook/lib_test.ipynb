{
 "cells": [
  {
   "cell_type": "code",
   "execution_count": 1,
   "metadata": {
    "collapsed": false
   },
   "outputs": [
    {
     "data": {
      "text/plain": [
       "<module 'nexstarevo' from 'nexstarevo.pyc'>"
      ]
     },
     "execution_count": 1,
     "metadata": {},
     "output_type": "execute_result"
    }
   ],
   "source": [
    "import asyncore\n",
    "import nexstarevo as nse \n",
    "reload(nse)"
   ]
  },
  {
   "cell_type": "code",
   "execution_count": 2,
   "metadata": {
    "collapsed": false,
    "scrolled": false
   },
   "outputs": [
    {
     "name": "stdout",
     "output_type": "stream",
     "text": [
      "Hello!\n",
      "msg: A [4]  HC+ =>  ALT ( MC_MOVE_POS): 0x09\n",
      "msg: A [3]  ALT =>  HC+ ( MC_MOVE_POS): \n",
      "msg: A [4]  HC+ =>  ALT ( MC_MOVE_POS): 0x00\n",
      "msg: A [3]  ALT =>  HC+ ( MC_MOVE_POS): \n",
      "msg: A [4]  HC+ =>  ALT ( MC_MOVE_NEG): 0x09\n",
      "msg: A [3]  ALT =>  HC+ ( MC_MOVE_NEG): \n",
      "msg: A [4]  HC+ =>  ALT ( MC_MOVE_POS): 0x00\n",
      "msg: A [3]  ALT =>  HC+ ( MC_MOVE_POS): \n",
      "msg: A [4]  HC+ =>  ALT ( MC_MOVE_POS): 0x09\n",
      "msg: A [3]  ALT =>  HC+ ( MC_MOVE_POS): \n",
      "msg: A [4]  HC+ =>  ALT ( MC_MOVE_POS): 0x00\n",
      "msg: A [3]  ALT =>  HC+ ( MC_MOVE_POS): \n",
      "msg: A [4]  HC+ =>  ALT ( MC_MOVE_NEG): 0x09\n",
      "msg: A [3]  ALT =>  HC+ ( MC_MOVE_NEG): \n",
      "msg: A [4]  HC+ =>  ALT ( MC_MOVE_POS): 0x00\n",
      "msg: A [3]  ALT =>  HC+ ( MC_MOVE_POS): \n",
      "msg: A [4]  HC+ =>  ALT ( MC_MOVE_NEG): 0x09\n",
      "msg: A [3]  ALT =>  HC+ ( MC_MOVE_NEG): \n",
      "msg: A [4]  HC+ =>  ALT ( MC_MOVE_POS): 0x00\n",
      "msg: A [3]  ALT =>  HC+ ( MC_MOVE_POS): \n",
      "msg: A [4]  HC+ =>  ALT ( MC_MOVE_POS): 0x09\n",
      "msg: A [3]  ALT =>  HC+ ( MC_MOVE_POS): \n",
      "msg: A [4]  HC+ =>  ALT ( MC_MOVE_POS): 0x00\n",
      "msg: A [3]  ALT =>  HC+ ( MC_MOVE_POS): \n",
      "msg: A [4]  HC+ =>  ALT ( MC_MOVE_NEG): 0x09\n",
      "msg: A [3]  ALT =>  HC+ ( MC_MOVE_NEG): \n",
      "msg: A [4]  HC+ =>  ALT ( MC_MOVE_POS): 0x00\n",
      "msg: A [3]  ALT =>  HC+ ( MC_MOVE_POS): \n",
      "msg: A [4]  HC+ =>  ALT ( MC_MOVE_POS): 0x09\n",
      "msg: A [3]  ALT =>  HC+ ( MC_MOVE_POS): \n",
      "msg: A [4]  HC+ =>  ALT ( MC_MOVE_POS): 0x00\n",
      "msg: A [3]  ALT =>  HC+ ( MC_MOVE_POS): \n",
      "msg: A [4]  HC+ =>  ALT ( MC_MOVE_NEG): 0x09\n",
      "msg: A [3]  ALT =>  HC+ ( MC_MOVE_NEG): \n",
      "msg: A [4]  HC+ =>  ALT ( MC_MOVE_POS): 0x00\n",
      "msg: A [3]  ALT =>  HC+ ( MC_MOVE_POS): \n",
      "msg: A [4]  HC+ =>  ALT ( MC_MOVE_POS): 0x09\n",
      "msg: A [3]  ALT =>  HC+ ( MC_MOVE_POS): \n",
      "msg: A [4]  HC+ =>  ALT ( MC_MOVE_POS): 0x00\n",
      "msg: A [3]  ALT =>  HC+ ( MC_MOVE_POS): \n",
      "msg: A [4]  HC+ =>  ALT ( MC_MOVE_POS): 0x01\n",
      "msg: A [3]  ALT =>  HC+ ( MC_MOVE_POS): \n",
      "msg: A [4]  HC+ =>  ALT ( MC_MOVE_POS): 0x00\n",
      "msg: A [3]  ALT =>  HC+ ( MC_MOVE_POS): \n",
      "msg: A [4]  HC+ =>  ALT ( MC_MOVE_NEG): 0x01\n",
      "msg: A [3]  ALT =>  HC+ ( MC_MOVE_NEG): \n",
      "msg: A [4]  HC+ =>  ALT ( MC_MOVE_POS): 0x00\n",
      "msg: A [3]  ALT =>  HC+ ( MC_MOVE_POS): \n",
      "msg: A [4]  HC+ =>  ALT ( MC_MOVE_POS): 0x01\n",
      "msg: A [3]  ALT =>  HC+ ( MC_MOVE_POS): \n",
      "msg: A [4]  HC+ =>  ALT ( MC_MOVE_POS): 0x00\n",
      "msg: A [3]  ALT =>  HC+ ( MC_MOVE_POS): \n",
      "msg: A [4]  HC+ =>  ALT ( MC_MOVE_NEG): 0x01\n",
      "msg: A [3]  ALT =>  HC+ ( MC_MOVE_NEG): \n",
      "msg: A [4]  HC+ =>  ALT ( MC_MOVE_POS): 0x00\n",
      "msg: A [3]  ALT =>  HC+ ( MC_MOVE_POS): \n",
      "msg: A [4]  HC+ =>  ALT ( MC_MOVE_POS): 0x01\n",
      "msg: A [3]  ALT =>  HC+ ( MC_MOVE_POS): \n",
      "msg: A [4]  HC+ =>  ALT ( MC_MOVE_POS): 0x00\n",
      "msg: A [3]  ALT =>  HC+ ( MC_MOVE_POS): \n",
      "msg: A [4]  HC+ =>  ALT ( MC_MOVE_NEG): 0x01\n",
      "msg: A [3]  ALT =>  HC+ ( MC_MOVE_NEG): \n",
      "msg: A [4]  HC+ =>  ALT ( MC_MOVE_POS): 0x00\n",
      "msg: A [3]  ALT =>  HC+ ( MC_MOVE_POS): \n",
      "msg: A [4]  HC+ =>  ALT ( MC_MOVE_POS): 0x01\n",
      "msg: A [3]  ALT =>  HC+ ( MC_MOVE_POS): \n",
      "msg: A [4]  HC+ =>  ALT ( MC_MOVE_POS): 0x00\n",
      "msg: A [3]  ALT =>  HC+ ( MC_MOVE_POS): \n",
      "msg: A [4]  HC+ =>  ALT ( MC_MOVE_NEG): 0x01\n",
      "msg: A [3]  ALT =>  HC+ ( MC_MOVE_NEG): \n",
      "msg: A [4]  HC+ =>  ALT ( MC_MOVE_POS): 0x00\n",
      "msg: A [3]  ALT =>  HC+ ( MC_MOVE_POS): \n",
      "msg: A [4]  HC+ =>  ALT ( MC_MOVE_POS): 0x01\n",
      "msg: A [3]  ALT =>  HC+ ( MC_MOVE_POS): \n",
      "msg: A [4]  HC+ =>  ALT ( MC_MOVE_POS): 0x00\n",
      "msg: A [3]  ALT =>  HC+ ( MC_MOVE_POS): \n",
      "msg: A [4]  HC+ =>  ALT ( MC_MOVE_NEG): 0x01\n",
      "msg: A [3]  ALT =>  HC+ ( MC_MOVE_NEG): \n",
      "msg: A [4]  HC+ =>  ALT ( MC_MOVE_POS): 0x00\n",
      "msg: A [3]  ALT =>  HC+ ( MC_MOVE_POS): \n",
      "msg: A [4]  HC+ =>  ALT ( MC_MOVE_POS): 0x01\n",
      "msg: A [3]  ALT =>  HC+ ( MC_MOVE_POS): \n",
      "msg: A [4]  HC+ =>  ALT ( MC_MOVE_POS): 0x00\n",
      "msg: A [3]  ALT =>  HC+ ( MC_MOVE_POS): \n",
      "msg: A [4]  HC+ =>  ALT ( MC_MOVE_POS): 0x01\n",
      "msg: A [3]  ALT =>  HC+ ( MC_MOVE_POS): \n",
      "msg: A [4]  HC+ =>  ALT ( MC_MOVE_POS): 0x00\n",
      "msg: A [3]  ALT =>  HC+ ( MC_MOVE_POS): \n",
      "msg: A [4]  HC+ =>  ALT ( MC_MOVE_POS): 0x05\n",
      "msg: A [3]  ALT =>  HC+ ( MC_MOVE_POS): \n",
      "msg: A [4]  HC+ =>  ALT ( MC_MOVE_POS): 0x00\n",
      "msg: A [3]  ALT =>  HC+ ( MC_MOVE_POS): \n",
      "msg: A [4]  HC+ =>  ALT ( MC_MOVE_NEG): 0x05\n",
      "msg: A [3]  ALT =>  HC+ ( MC_MOVE_NEG): \n",
      "msg: A [4]  HC+ =>  ALT ( MC_MOVE_POS): 0x00\n",
      "msg: A [3]  ALT =>  HC+ ( MC_MOVE_POS): \n",
      "msg: A [4]  HC+ =>  ALT ( MC_MOVE_POS): 0x05\n",
      "msg: A [3]  ALT =>  HC+ ( MC_MOVE_POS): \n",
      "msg: A [4]  HC+ =>  ALT ( MC_MOVE_POS): 0x00\n",
      "msg: A [3]  ALT =>  HC+ ( MC_MOVE_POS): \n"
     ]
    },
    {
     "ename": "KeyboardInterrupt",
     "evalue": "",
     "output_type": "error",
     "traceback": [
      "\u001b[1;31m---------------------------------------------------------------------------\u001b[0m",
      "\u001b[1;31mKeyboardInterrupt\u001b[0m                         Traceback (most recent call last)",
      "\u001b[1;32m<ipython-input-2-a4c8b6c4a440>\u001b[0m in \u001b[0;36m<module>\u001b[1;34m()\u001b[0m\n\u001b[0;32m      1\u001b[0m \u001b[0mscope\u001b[0m\u001b[1;33m=\u001b[0m\u001b[0mnse\u001b[0m\u001b[1;33m.\u001b[0m\u001b[0mNSEScope\u001b[0m\u001b[1;33m(\u001b[0m\u001b[0maddr\u001b[0m\u001b[1;33m=\u001b[0m\u001b[1;34m'10.24.48.10'\u001b[0m\u001b[1;33m)\u001b[0m\u001b[1;33m\u001b[0m\u001b[0m\n\u001b[1;32m----> 2\u001b[1;33m \u001b[0masyncore\u001b[0m\u001b[1;33m.\u001b[0m\u001b[0mloop\u001b[0m\u001b[1;33m(\u001b[0m\u001b[0mcount\u001b[0m\u001b[1;33m=\u001b[0m\u001b[1;36m100\u001b[0m\u001b[1;33m)\u001b[0m\u001b[1;33m\u001b[0m\u001b[0m\n\u001b[0m\u001b[0;32m      3\u001b[0m \u001b[0mscope\u001b[0m\u001b[1;33m.\u001b[0m\u001b[0mclose\u001b[0m\u001b[1;33m(\u001b[0m\u001b[1;33m)\u001b[0m\u001b[1;33m\u001b[0m\u001b[0m\n",
      "\u001b[1;32m/home/jochym/miniconda/envs/astro/lib/python2.7/asyncore.pyc\u001b[0m in \u001b[0;36mloop\u001b[1;34m(timeout, use_poll, map, count)\u001b[0m\n\u001b[0;32m    218\u001b[0m     \u001b[1;32melse\u001b[0m\u001b[1;33m:\u001b[0m\u001b[1;33m\u001b[0m\u001b[0m\n\u001b[0;32m    219\u001b[0m         \u001b[1;32mwhile\u001b[0m \u001b[0mmap\u001b[0m \u001b[1;32mand\u001b[0m \u001b[0mcount\u001b[0m \u001b[1;33m>\u001b[0m \u001b[1;36m0\u001b[0m\u001b[1;33m:\u001b[0m\u001b[1;33m\u001b[0m\u001b[0m\n\u001b[1;32m--> 220\u001b[1;33m             \u001b[0mpoll_fun\u001b[0m\u001b[1;33m(\u001b[0m\u001b[0mtimeout\u001b[0m\u001b[1;33m,\u001b[0m \u001b[0mmap\u001b[0m\u001b[1;33m)\u001b[0m\u001b[1;33m\u001b[0m\u001b[0m\n\u001b[0m\u001b[0;32m    221\u001b[0m             \u001b[0mcount\u001b[0m \u001b[1;33m=\u001b[0m \u001b[0mcount\u001b[0m \u001b[1;33m-\u001b[0m \u001b[1;36m1\u001b[0m\u001b[1;33m\u001b[0m\u001b[0m\n\u001b[0;32m    222\u001b[0m \u001b[1;33m\u001b[0m\u001b[0m\n",
      "\u001b[1;32m/home/jochym/miniconda/envs/astro/lib/python2.7/asyncore.pyc\u001b[0m in \u001b[0;36mpoll\u001b[1;34m(timeout, map)\u001b[0m\n\u001b[0;32m    143\u001b[0m \u001b[1;33m\u001b[0m\u001b[0m\n\u001b[0;32m    144\u001b[0m         \u001b[1;32mtry\u001b[0m\u001b[1;33m:\u001b[0m\u001b[1;33m\u001b[0m\u001b[0m\n\u001b[1;32m--> 145\u001b[1;33m             \u001b[0mr\u001b[0m\u001b[1;33m,\u001b[0m \u001b[0mw\u001b[0m\u001b[1;33m,\u001b[0m \u001b[0me\u001b[0m \u001b[1;33m=\u001b[0m \u001b[0mselect\u001b[0m\u001b[1;33m.\u001b[0m\u001b[0mselect\u001b[0m\u001b[1;33m(\u001b[0m\u001b[0mr\u001b[0m\u001b[1;33m,\u001b[0m \u001b[0mw\u001b[0m\u001b[1;33m,\u001b[0m \u001b[0me\u001b[0m\u001b[1;33m,\u001b[0m \u001b[0mtimeout\u001b[0m\u001b[1;33m)\u001b[0m\u001b[1;33m\u001b[0m\u001b[0m\n\u001b[0m\u001b[0;32m    146\u001b[0m         \u001b[1;32mexcept\u001b[0m \u001b[0mselect\u001b[0m\u001b[1;33m.\u001b[0m\u001b[0merror\u001b[0m\u001b[1;33m,\u001b[0m \u001b[0merr\u001b[0m\u001b[1;33m:\u001b[0m\u001b[1;33m\u001b[0m\u001b[0m\n\u001b[0;32m    147\u001b[0m             \u001b[1;32mif\u001b[0m \u001b[0merr\u001b[0m\u001b[1;33m.\u001b[0m\u001b[0margs\u001b[0m\u001b[1;33m[\u001b[0m\u001b[1;36m0\u001b[0m\u001b[1;33m]\u001b[0m \u001b[1;33m!=\u001b[0m \u001b[0mEINTR\u001b[0m\u001b[1;33m:\u001b[0m\u001b[1;33m\u001b[0m\u001b[0m\n",
      "\u001b[1;31mKeyboardInterrupt\u001b[0m: "
     ]
    }
   ],
   "source": [
    "scope=nse.NSEScope(addr='10.24.48.10')\n",
    "asyncore.loop(count=100)\n",
    "scope.close()"
   ]
  },
  {
   "cell_type": "code",
   "execution_count": 4,
   "metadata": {
    "collapsed": false,
    "hide_input": false
   },
   "outputs": [],
   "source": [
    "scope.close()"
   ]
  },
  {
   "cell_type": "code",
   "execution_count": null,
   "metadata": {
    "collapsed": true
   },
   "outputs": [],
   "source": []
  }
 ],
 "metadata": {
  "hide_input": false,
  "kernelspec": {
   "display_name": "Python 2",
   "language": "python",
   "name": "python2"
  },
  "language_info": {
   "codemirror_mode": {
    "name": "ipython",
    "version": 2
   },
   "file_extension": ".py",
   "mimetype": "text/x-python",
   "name": "python",
   "nbconvert_exporter": "python",
   "pygments_lexer": "ipython2",
   "version": "2.7.11"
  },
  "latex_envs": {
   "bibliofile": "biblio.bib",
   "cite_by": "apalike",
   "current_citInitial": 1,
   "eqLabelWithNumbers": true,
   "eqNumInitial": 0
  }
 },
 "nbformat": 4,
 "nbformat_minor": 0
}
