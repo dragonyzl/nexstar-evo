{
 "cells": [
  {
   "cell_type": "code",
   "execution_count": 1,
   "metadata": {
    "collapsed": false
   },
   "outputs": [],
   "source": [
    "#Socket client example in python\n",
    " \n",
    "import socket   #for sockets\n",
    "import sys  #for exit\n",
    "import struct\n",
    "from __future__ import division\n",
    "import time\n",
    "import sys,io\n",
    "import string"
   ]
  },
  {
   "cell_type": "code",
   "execution_count": 7,
   "metadata": {
    "collapsed": true
   },
   "outputs": [],
   "source": [
    "s.close()"
   ]
  },
  {
   "cell_type": "code",
   "execution_count": 4,
   "metadata": {
    "collapsed": false
   },
   "outputs": [
    {
     "name": "stdout",
     "output_type": "stream",
     "text": [
      "Socket Created\n",
      "Socket Connected to 1.2.3.4 on ip 1.2.3.4\n"
     ]
    }
   ],
   "source": [
    " \n",
    "#create an INET, STREAMing socket\n",
    "try:\n",
    "    s = socket.socket(socket.AF_INET, socket.SOCK_STREAM)\n",
    "except socket.error:\n",
    "    print 'Failed to create socket'\n",
    "    sys.exit()\n",
    "     \n",
    "print 'Socket Created'\n",
    " \n",
    "host = '1.2.3.4';\n",
    "port = 2000;\n",
    " \n",
    "try:\n",
    "    remote_ip = socket.gethostbyname( host )\n",
    " \n",
    "except socket.gaierror:\n",
    "    #could not resolve\n",
    "    print 'Hostname could not be resolved. Exiting'\n",
    "    sys.exit()\n",
    " \n",
    "#Connect to remote server\n",
    "s.connect((host , port))\n",
    " \n",
    "print 'Socket Connected to ' + host + ' on ip ' + remote_ip"
   ]
  },
  {
   "cell_type": "code",
   "execution_count": 5,
   "metadata": {
    "collapsed": false
   },
   "outputs": [],
   "source": [
    "targets={'ANY':'\\x00',\n",
    "         'MB' :'\\x01',\n",
    "         'HC' :'\\x04',\n",
    "         'HC+':'\\x0d',\n",
    "         'AZM':'\\x10',\n",
    "         'ALT':'\\x11',\n",
    "         'NET':'\\x20',\n",
    "         'GPS':'\\xb0',\n",
    "        }\n",
    "commands={\n",
    "          'MC_GET_POSITION':'\\x01',\n",
    "          'MC_GOTO_FAST':'\\x02',\n",
    "          'MC_SET_POSITION':'\\x04',\n",
    "          'MC_SET_POS_GUIDERATE':'\\x06',\n",
    "          'MC_SET_NEG_GUIDERATE':'\\x07',\n",
    "          'MC_LEVEL_START':'\\x0b',\n",
    "          'MC_GOTO_SLOW':'\\x17',\n",
    "          'MC_SEEK_INDEX':'\\x19',\n",
    "          'GET_VER':'\\xfe',\n",
    "         }\n",
    "\n",
    "trgid={}\n",
    "for k in targets.keys():\n",
    "    trgid[ord(targets[k])]=k\n",
    "cmdid={}\n",
    "for k in commands.keys():\n",
    "    cmdid[ord(commands[k])]=k\n",
    "    \n",
    "def checksum(msg):\n",
    "    return ((~sum([ord(c) for c in msg]) + 1) ) & 0xFF\n",
    "\n",
    "def f2dms(f):\n",
    "    d=360*f\n",
    "    dd=int(d)\n",
    "    mm=int((d-dd)*60)\n",
    "    ss=(d-dd-mm/60)*3600\n",
    "    return dd,mm,ss\n",
    "\n",
    "def parse_pos(d):\n",
    "    if len(d)==3 :\n",
    "        pos=struct.unpack('!i','\\x00'+d)[0]/2**24\n",
    "        return u'%03d°%02d\\'%04.1f\"' % f2dms(pos)\n",
    "    else :\n",
    "        return ''\n",
    "\n",
    "parsers={\n",
    "    '\\x01':parse_pos,\n",
    "    '\\x02':parse_pos,\n",
    "    '\\x04':parse_pos,\n",
    "    '\\x06':parse_pos,\n",
    "    '\\x07':parse_pos,\n",
    "    '\\x17':parse_pos,\n",
    "}\n",
    "\n",
    "def send_cmd(sck, src='NET', trg='AZM', cmd='GET_VER', data=''):\n",
    "    pre='\\x3b'\n",
    "    msg=targets[src]+targets[trg]+commands[cmd]+data\n",
    "    msg=chr(len(msg))+msg\n",
    "    sck.sendall(pre+msg+chr(checksum(msg)))\n",
    "\n",
    "def dprint(m):\n",
    "    for c in m:\n",
    "        if ord(c)==0x3b :\n",
    "            print\n",
    "        print \"0x%02x\" %ord(c),\n",
    "    print\n",
    "\n",
    "def split_msgs(r,debug=False):\n",
    "    l=r.find('\\x3b')+1\n",
    "    p=l\n",
    "    ml=[]\n",
    "    while p>-1:\n",
    "        p=r.find('\\x3b',l)\n",
    "        #if debug : print l, p\n",
    "        ml.append(r[l:p]+r[p])\n",
    "        l=p+1\n",
    "    if debug : print ml\n",
    "    return ml\n",
    "    \n",
    "def parse_msg(m, debug=False):\n",
    "    '''\n",
    "    Parse bytes byond 0x3b. \n",
    "    Do not pass the message with preamble!\n",
    "    '''\n",
    "    l=ord(m[0])+1\n",
    "    msg=m[:l]\n",
    "    if debug :\n",
    "        print 'Parse:',\n",
    "        dprint(msg)\n",
    "    if  chr(checksum(msg)) != m[l] :\n",
    "        print 'Checksum error: %x vs. %02x' % (checksum(msg) , ord(m[l]))\n",
    "        dprint(m)\n",
    "    l,src,dst,mid=struct.unpack('4B',msg[:4])\n",
    "    dat=msg[4:l+1]\n",
    "    #print 'len:', l\n",
    "    return l, src, dst, mid, dat\n",
    "\n",
    "\n",
    "def print_msg(l,s,d,i,dat):\n",
    "    try :\n",
    "        print '[%d] %4s => %4s (%12s): ' % (l,trgid[s],trgid[d],cmdid[i]),\n",
    "    except KeyError :\n",
    "        print '[%d] %02x => %02x (%02x): ' % (l,s,d,i),\n",
    "    if chr(i) in parsers:\n",
    "        print parsers[chr(i)](dat),\n",
    "    else :\n",
    "        dprint(dat)\n",
    "\n",
    "def rcv_msg(sck, trg='NET', debug=False):\n",
    "    r = sck.recv(4096)\n",
    "    #dprint(r)\n",
    "    we=ord(targets[trg])\n",
    "    ml=[]\n",
    "    for m in split_msgs(r,debug=debug):\n",
    "        if debug :\n",
    "            print 'RCV:',\n",
    "            dprint(m)\n",
    "        try :\n",
    "            l,s,d,i,dat=parse_msg(m,debug=debug)\n",
    "            if trg!='ANY' and d!=we and s!=we:\n",
    "                print 'Not for us (%02x): %02x ->  %02x' % (we, s, d)\n",
    "                continue\n",
    "            if debug : print_msg(l,s,d,i,dat)\n",
    "            ml.append([l,s,d,i,dat])\n",
    "        except IndexError :\n",
    "            print 'Parse ERROR:',\n",
    "            dprint(m)\n",
    "    return ml\n",
    "\n",
    "\n",
    "def get_pos(sck,trg='ALT'):\n",
    "    send_cmd(s,trg=trg,cmd='MC_GET_POSITION')\n",
    "    time.sleep(0.05)\n",
    "    ml=rcv_msg(s)\n",
    "    dat='\\x00'+ml[-1][-1]\n",
    "    return struct.unpack('!i',dat)[0]/2**24\n",
    "    \n",
    "def get_ver(sck,trg='MB'):\n",
    "    send_cmd(sck,trg=trg,cmd='GET_VER')\n",
    "    msg=rcv_msg(sck)[-1]\n",
    "    return tuple(['%02x' % ord(c) for c in msg[-1]])\n",
    "\n",
    "def show_pos(sck):\n",
    "    azm=get_pos(sck,trg='AZM')\n",
    "    print u'\\rAZM %03d°%02d\\'%04.1f\"' % f2dms(azm),\n",
    "    time.sleep(0.1)\n",
    "    alt=get_pos(sck,trg='ALT')\n",
    "    print u'ALT %+02d°%02d\\'%04.1f\"' % f2dms(alt),\n"
   ]
  },
  {
   "cell_type": "code",
   "execution_count": 7,
   "metadata": {
    "collapsed": false
   },
   "outputs": [
    {
     "name": "stdout",
     "output_type": "stream",
     "text": [
      "Overwriting nexstarevo.py\n"
     ]
    }
   ],
   "source": [
    "%%writefile nexstarevo.py\n",
    "#!env python\n",
    "\n",
    "# NexStar Evolution communication library\n",
    "# (L) by Paweł T. Jochym <jochym@gmail.com>\n",
    "# This code is under GPL 3.0 license\n",
    "\n",
    "\n",
    "# ID tables\n",
    "targets={'ANY':'\\x00',\n",
    "         'MB' :'\\x01',\n",
    "         'HC' :'\\x04',\n",
    "         'HC+':'\\x0d',\n",
    "         'AZM':'\\x10',\n",
    "         'ALT':'\\x11',\n",
    "         'NET':'\\x20',\n",
    "         'GPS':'\\xb0',\n",
    "        }\n",
    "commands={\n",
    "          'MC_GET_POSITION':'\\x01',\n",
    "          'MC_GOTO_FAST':'\\x02',\n",
    "          'MC_SET_POSITION':'\\x04',\n",
    "          'MC_SET_POS_GUIDERATE':'\\x06',\n",
    "          'MC_SET_NEG_GUIDERATE':'\\x07',\n",
    "          'MC_LEVEL_START':'\\x0b',\n",
    "          'MC_GOTO_SLOW':'\\x17',\n",
    "          'MC_SEEK_INDEX':'\\x19',\n",
    "          'GET_VER':'\\xfe',\n",
    "         }\n",
    "\n",
    "trgid={}\n",
    "for k in targets.keys():\n",
    "    trgid[ord(targets[k])]=k\n",
    "cmdid={}\n",
    "for k in commands.keys():\n",
    "    cmdid[ord(commands[k])]=k\n",
    "\n",
    "# Utility functions\n",
    "def checksum(self, msg):\n",
    "    return ((~sum([ord(c) for c in msg]) + 1) ) & 0xFF\n",
    "\n",
    "def dprint(m):\n",
    "    for c in m:\n",
    "        if ord(c)==0x3b :\n",
    "            print\n",
    "        print \"0x%02x\" %ord(c),\n",
    "    print\n",
    "\n",
    "\n",
    "def split_msgs(r,debug=False):\n",
    "    l=r.find('\\x3b')+1\n",
    "    p=l\n",
    "    ml=[]\n",
    "    while p>-1:\n",
    "        p=r.find('\\x3b',l)\n",
    "        #if debug : print l, p\n",
    "        ml.append(r[l:p]+r[p])\n",
    "        l=p+1\n",
    "    if debug : print ml\n",
    "    return ml\n",
    "\n",
    "def f2dms(f):\n",
    "    '''\n",
    "    Convert fraction of the full rotation to DMS triple (degrees).\n",
    "    '''\n",
    "    d=360*f\n",
    "    dd=int(d)\n",
    "    mm=int((d-dd)*60)\n",
    "    ss=(d-dd-mm/60)*3600\n",
    "    return dd,mm,ss\n",
    "\n",
    "def parse_pos(d):\n",
    "    if len(d)==3 :\n",
    "        pos=struct.unpack('!i','\\x00'+d)[0]/2**24\n",
    "        return u'%03d°%02d\\'%04.1f\"' % f2dms(pos)\n",
    "    else :\n",
    "        return ''\n",
    "\n",
    "\n",
    "# Message classes\n",
    "class nse_msg:\n",
    "    \n",
    "    def __init__(self, data=None):\n",
    "        if data is not None :\n",
    "            self.l, self.src, self.dst, self.mid, self.dat=self.parse(data)\n",
    "        else :\n",
    "            pass\n",
    "        \n",
    "    def parse(self, m, debug=False):\n",
    "        '''\n",
    "        Parse bytes byond 0x3b. The data should be a byte string.\n",
    "        Do not pass the message with preamble! \n",
    "        The function assumes the first byte is a length byte.\n",
    "        The structure of the message (bytes):\n",
    "            <preamble=0x3b> -- should be removed\n",
    "            <packet len> -- assumed to be the first byte here\n",
    "            <source device #>\n",
    "            <destination device #>\n",
    "            <message ID>\n",
    "            <message data bytes>\n",
    "            <checksum byte>\n",
    "        '''\n",
    "        l=ord(m[0])+1gather\n",
    "        msg=m[:l]\n",
    "        if debug :\n",
    "            print 'Parse:',\n",
    "            dprint(msg)\n",
    "        if  chr(checksum(msg)) != m[l] :\n",
    "            print 'Checksum error: %02x vs. %02x' % (checksum(msg) , ord(m[l]))\n",
    "            dprint(m)\n",
    "        l,src,dst,mid=struct.unpack('4B',msg[:4])\n",
    "        dat=msg[4:l+1]\n",
    "        #print 'len:', l\n",
    "        return l, src, dst, mid, dat\n",
    "    \n",
    "\n",
    "class nse_pos_msg(nse_msg):\n",
    "    \n",
    "    nse_msg.dt['\\x01']\n",
    "parsers={\n",
    "    '\\x01':parse_pos,\n",
    "    '\\x02':parse_pos,\n",
    "    '\\x04':parse_pos,\n",
    "    '\\x06':parse_pos,\n",
    "    '\\x07':parse_pos,\n",
    "    '\\x17':parse_pos,\n",
    "}\n",
    "    \n",
    "    def __init__(self, data=None):\n",
    "        nse_msg.__init__(self,data)"
   ]
  },
  {
   "cell_type": "code",
   "execution_count": null,
   "metadata": {
    "collapsed": false,
    "scrolled": true
   },
   "outputs": [],
   "source": [
    "while True :\n",
    "    for m in rcv_msg(s,'ANY'):\n",
    "        print_msg(*m)\n",
    "        print\n",
    "    sys.stdout.flush()\n",
    "    time.sleep(0.05)"
   ]
  },
  {
   "cell_type": "code",
   "execution_count": 15,
   "metadata": {
    "collapsed": false
   },
   "outputs": [
    {
     "name": "stdout",
     "output_type": "stream",
     "text": [
      "[[3, 32, 16, 254, ''], [7, 16, 32, 254, '\\x07\\n\\x10\\r']]\n",
      "[[3, 32, 17, 254, ''], [7, 17, 32, 254, '\\x07\\n\\x10\\r']]\n"
     ]
    }
   ],
   "source": [
    "send_cmd(s,src='NET',trg='AZM',cmd='GET_VER')\n",
    "print rcv_msg(s,trg='NET')\n",
    "time.sleep(0.1)\n",
    "send_cmd(s,src='NET',trg='ALT',cmd='GET_VER')\n",
    "print rcv_msg(s,trg='NET')"
   ]
  },
  {
   "cell_type": "code",
   "execution_count": 24,
   "metadata": {
    "collapsed": false
   },
   "outputs": [
    {
     "data": {
      "text/plain": [
       "[[3, 32, 13, 254, '']]"
      ]
     },
     "execution_count": 24,
     "metadata": {},
     "output_type": "execute_result"
    }
   ],
   "source": [
    "send_cmd(s,src='NET',trg='HC+',cmd='GET_VER')\n",
    "rcv_msg(s,trg='ANY')"
   ]
  },
  {
   "cell_type": "code",
   "execution_count": 277,
   "metadata": {
    "collapsed": false
   },
   "outputs": [
    {
     "data": {
      "text/plain": [
       "[[3, 32, 17, 1, ''], [6, 17, 32, 1, '\\x00\\x00\\x00']]"
      ]
     },
     "execution_count": 277,
     "metadata": {},
     "output_type": "execute_result"
    }
   ],
   "source": [
    "send_cmd(s,trg='AZM',cmd='MC_GET_POSITION')\n",
    "rcv_msg(s)\n",
    "send_cmd(s,trg='ALT',cmd='MC_GET_POSITION')\n",
    "rcv_msg(s)"
   ]
  },
  {
   "cell_type": "code",
   "execution_count": 287,
   "metadata": {
    "collapsed": false
   },
   "outputs": [
    {
     "name": "stdout",
     "output_type": "stream",
     "text": [
      "()\n"
     ]
    }
   ],
   "source": [
    "print get_ver(s,'HC')"
   ]
  },
  {
   "cell_type": "code",
   "execution_count": 279,
   "metadata": {
    "collapsed": false
   },
   "outputs": [
    {
     "data": {
      "text/plain": [
       "[[3, 32, 4, 1, '']]"
      ]
     },
     "execution_count": 279,
     "metadata": {},
     "output_type": "execute_result"
    }
   ],
   "source": [
    "send_cmd(s,trg='HC+',cmd='MC_GET_POSITION')\n",
    "rcv_msg(s)"
   ]
  },
  {
   "cell_type": "code",
   "execution_count": 289,
   "metadata": {
    "collapsed": false
   },
   "outputs": [
    {
     "name": "stdout",
     "output_type": "stream",
     "text": [
      "() () ('07', '0a', '10', '0d') ('07', '0a', '10', '0d')\n"
     ]
    }
   ],
   "source": [
    "print get_ver(s,'MB'), get_ver(s,'HC'), get_ver(s,'ALT'), get_ver(s,'AZM')"
   ]
  },
  {
   "cell_type": "code",
   "execution_count": 281,
   "metadata": {
    "collapsed": false
   },
   "outputs": [
    {
     "name": "stdout",
     "output_type": "stream",
     "text": [
      "AZM 000°00'00.0\" ALT +0°00'00.0\"\n"
     ]
    }
   ],
   "source": [
    "show_pos(s)\n",
    "sys.stdout.flush()"
   ]
  },
  {
   "cell_type": "code",
   "execution_count": 284,
   "metadata": {
    "collapsed": false
   },
   "outputs": [
    {
     "name": "stdout",
     "output_type": "stream",
     "text": [
      "AZM 000°00'00.0\" ALT +0°00'00.0\"\n"
     ]
    }
   ],
   "source": [
    "for i in range(10):\n",
    "    show_pos(s)\n",
    "    sys.stdout.flush()\n",
    "    time.sleep(1)"
   ]
  },
  {
   "cell_type": "code",
   "execution_count": 173,
   "metadata": {
    "collapsed": true
   },
   "outputs": [],
   "source": [
    "def goto(s,alt,azm,spd='FAST'):\n",
    "    al=int(alt*2**24)\n",
    "    az=int(azm*2**24)\n",
    "    cmd='MC_GOTO_'+spd\n",
    "    send_cmd(s,trg='ALT',cmd=cmd,data=struct.pack('!i',al)[1:])\n",
    "    time.sleep(0.1)\n",
    "    send_cmd(s,trg='AZM',cmd=cmd,data=struct.pack('!i',az)[1:])"
   ]
  },
  {
   "cell_type": "code",
   "execution_count": 241,
   "metadata": {
    "collapsed": true
   },
   "outputs": [],
   "source": [
    "goto(s,0.0,0.0,spd='FAST')"
   ]
  },
  {
   "cell_type": "code",
   "execution_count": 199,
   "metadata": {
    "collapsed": true
   },
   "outputs": [],
   "source": [
    "def frac_to_fp24(x):\n",
    "    return struct.pack('!i',int(abs(x)*2**24))[1:]\n",
    "\n",
    "def set_guiderate(s,altgr,azmgr):\n",
    "    ald='POS' if (altgr > 0) else 'NEG'\n",
    "    azd='POS' if (azmgr > 0) else 'NEG'\n",
    "    send_cmd(s,trg='ALT',cmd='MC_SET_'+ald+'_GUIDERATE',data=frac_to_fp24(altgr))\n",
    "    time.sleep(0.05)\n",
    "    send_cmd(s,trg='AZM',cmd='MC_SET_'+azd+'_GUIDERATE',data=frac_to_fp24(azmgr))    \n",
    "    time.sleep(0.05)\n"
   ]
  },
  {
   "cell_type": "code",
   "execution_count": 233,
   "metadata": {
    "collapsed": false
   },
   "outputs": [],
   "source": [
    "set_guiderate(s,0,0)"
   ]
  },
  {
   "cell_type": "code",
   "execution_count": 240,
   "metadata": {
    "collapsed": false
   },
   "outputs": [
    {
     "name": "stdout",
     "output_type": "stream",
     "text": [
      "[3] 20 => 11 (0b): \n",
      "[4] 11 => 20 (f0):  0x0b\n"
     ]
    },
    {
     "data": {
      "text/plain": [
       "[[3, 32, 17, 11, ''], [4, 17, 32, 240, '\\x0b']]"
      ]
     },
     "execution_count": 240,
     "metadata": {},
     "output_type": "execute_result"
    }
   ],
   "source": [
    "send_cmd(s,trg='ALT',cmd='MC_LEVEL_START')\n",
    "rcv_msg(s,debug=True)"
   ]
  },
  {
   "cell_type": "code",
   "execution_count": 104,
   "metadata": {
    "collapsed": false
   },
   "outputs": [
    {
     "data": {
      "text/plain": [
       "0.009731650352478027"
      ]
     },
     "execution_count": 104,
     "metadata": {},
     "output_type": "execute_result"
    }
   ],
   "source": [
    "struct.unpack('!i','\\x00\\x02\\x7d\\xc6')[0]/2**24"
   ]
  },
  {
   "cell_type": "code",
   "execution_count": 96,
   "metadata": {
    "collapsed": false
   },
   "outputs": [
    {
     "name": "stdout",
     "output_type": "stream",
     "text": [
      "0.00973148148148\n",
      "cb\n",
      "70\n",
      "1f\n",
      "3c\n",
      "\n"
     ]
    }
   ],
   "source": [
    "print((3+30/60+12/3600)/360)\n",
    "for c in struct.pack('f',(3+30/60+12/3600)/360):\n",
    "    print('%02x' % ord(c))\n",
    "print()"
   ]
  },
  {
   "cell_type": "code",
   "execution_count": 87,
   "metadata": {
    "collapsed": false
   },
   "outputs": [
    {
     "data": {
      "text/plain": [
       "[]"
      ]
     },
     "execution_count": 87,
     "metadata": {},
     "output_type": "execute_result"
    }
   ],
   "source": [
    "''.split()"
   ]
  },
  {
   "cell_type": "code",
   "execution_count": 103,
   "metadata": {
    "collapsed": false
   },
   "outputs": [
    {
     "name": "stdout",
     "output_type": "stream",
     "text": [
      "\n"
     ]
    }
   ],
   "source": [
    "a='\\x3b1aaaa\\x3b2bbbbb\\x3b3ccccc'"
   ]
  },
  {
   "cell_type": "code",
   "execution_count": 105,
   "metadata": {
    "collapsed": false
   },
   "outputs": [
    {
     "data": {
      "text/plain": [
       "['1aaaa', '2bbbbb', '3ccccc']"
      ]
     },
     "execution_count": 105,
     "metadata": {},
     "output_type": "execute_result"
    }
   ],
   "source": [
    "a.split('\\x3b')[1:]"
   ]
  },
  {
   "cell_type": "code",
   "execution_count": null,
   "metadata": {
    "collapsed": true
   },
   "outputs": [],
   "source": [
    "a.rfind()"
   ]
  },
  {
   "cell_type": "code",
   "execution_count": 143,
   "metadata": {
    "collapsed": false
   },
   "outputs": [
    {
     "data": {
      "text/plain": [
       "['1aaaa', '2bbbbb', '3cccc']"
      ]
     },
     "execution_count": 143,
     "metadata": {},
     "output_type": "execute_result"
    }
   ],
   "source": [
    "split_msgs(a)"
   ]
  },
  {
   "cell_type": "code",
   "execution_count": 142,
   "metadata": {
    "collapsed": false
   },
   "outputs": [
    {
     "data": {
      "text/plain": [
       "';1aaaa;2bbbbb;3ccccc'"
      ]
     },
     "execution_count": 142,
     "metadata": {},
     "output_type": "execute_result"
    }
   ],
   "source": [
    "a"
   ]
  },
  {
   "cell_type": "code",
   "execution_count": 126,
   "metadata": {
    "collapsed": false
   },
   "outputs": [
    {
     "name": "stdout",
     "output_type": "stream",
     "text": [
      "3b 31 61 61 61 61 3b 32 62 62 62 62 62 3b 33 63 63 63 63 63\n"
     ]
    }
   ],
   "source": [
    "for c in a:\n",
    "    print '%02x' % ord(c) ,"
   ]
  },
  {
   "cell_type": "code",
   "execution_count": null,
   "metadata": {
    "collapsed": true
   },
   "outputs": [],
   "source": []
  }
 ],
 "metadata": {
  "kernelspec": {
   "display_name": "Python 2",
   "language": "python",
   "name": "python2"
  },
  "language_info": {
   "codemirror_mode": {
    "name": "ipython",
    "version": 2
   },
   "file_extension": ".py",
   "mimetype": "text/x-python",
   "name": "python",
   "nbconvert_exporter": "python",
   "pygments_lexer": "ipython2",
   "version": "2.7.9"
  }
 },
 "nbformat": 4,
 "nbformat_minor": 0
}
