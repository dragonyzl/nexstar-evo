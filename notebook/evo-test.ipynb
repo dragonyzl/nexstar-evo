{
 "cells": [
  {
   "cell_type": "code",
   "execution_count": 1,
   "metadata": {
    "collapsed": false
   },
   "outputs": [],
   "source": [
    "#Socket client example in python\n",
    " \n",
    "import socket   #for sockets\n",
    "import sys  #for exit\n",
    "import struct\n",
    "from __future__ import division\n",
    "import time\n",
    "import sys,io\n",
    "import string\n",
    "import asynchat"
   ]
  },
  {
   "cell_type": "code",
   "execution_count": 29,
   "metadata": {
    "collapsed": true
   },
   "outputs": [],
   "source": [
    "def dprint(m):\n",
    "    for c in m:\n",
    "        if ord(c)==0x3b :\n",
    "            print\n",
    "        print \"0x%02x\" %ord(c),\n",
    "    print\n",
    "    \n",
    "def checksum(msg):\n",
    "    return ((~sum([ord(c) for c in msg]) + 1) ) & 0xFF\n"
   ]
  },
  {
   "cell_type": "code",
   "execution_count": 35,
   "metadata": {
    "collapsed": true
   },
   "outputs": [],
   "source": [
    "class scope(asynchat.async_chat):\n",
    "    \n",
    "    def __init__(self, addr='1.2.3.4', port=2000):\n",
    "        asynchat.async_chat.__init__(self)\n",
    "        self.create_socket(socket.AF_INET, socket.SOCK_STREAM)\n",
    "        self.connect((addr, port))\n",
    "        self.ibuffer = []\n",
    "        self.obuffer = ''\n",
    "        self.reading_headers = True\n",
    "        self.handling = False\n",
    "        self.set_terminator('*HELLO*')\n",
    "        self.startup=True\n",
    "        \n",
    "    # grab some more data from the socket,\n",
    "    # throw it to the collector method,\n",
    "    # check for the terminator,\n",
    "    # if found, transition to the next state.\n",
    "\n",
    "    def handle_read (self):\n",
    "\n",
    "        try:\n",
    "            data = self.recv (self.ac_in_buffer_size)\n",
    "        except socket.error, why:\n",
    "            if why.args[0] in _BLOCKING_IO_ERRORS:\n",
    "                return\n",
    "            self.handle_error()\n",
    "            return\n",
    "\n",
    "        self.ac_in_buffer = self.ac_in_buffer + data\n",
    "\n",
    "        # Continue to search for self.terminator in self.ac_in_buffer,\n",
    "        # while calling self.collect_incoming_data.  The while loop\n",
    "        # is necessary because we might read several data+terminator\n",
    "        # combos with a single recv(4096).\n",
    "\n",
    "        while self.ac_in_buffer:\n",
    "            lb = len(self.ac_in_buffer)\n",
    "            terminator = self.get_terminator()\n",
    "            if not terminator:\n",
    "                # no terminator, collect it all\n",
    "                self.collect_incoming_data (self.ac_in_buffer)\n",
    "                self.ac_in_buffer = ''\n",
    "            elif isinstance(terminator, int) or isinstance(terminator, long):\n",
    "                # numeric terminator\n",
    "                n = terminator\n",
    "                if lb < n:\n",
    "                    self.collect_incoming_data (self.ac_in_buffer)\n",
    "                    self.ac_in_buffer = ''\n",
    "                    self.terminator = self.terminator - lb\n",
    "                else:\n",
    "                    self.collect_incoming_data (self.ac_in_buffer[:n])\n",
    "                    self.ac_in_buffer = self.ac_in_buffer[n:]\n",
    "                    self.terminator = 0\n",
    "                    self.found_terminator()\n",
    "            else:\n",
    "                # 3 cases:\n",
    "                # 1) end of buffer matches terminator exactly:\n",
    "                #    collect data, transition\n",
    "                # 2) end of buffer matches some prefix:\n",
    "                #    collect data to the prefix\n",
    "                # 3) end of buffer does not match any prefix:\n",
    "                #    collect data\n",
    "                terminator_len = len(terminator)\n",
    "                index = self.ac_in_buffer.find(terminator)\n",
    "                if index != -1:\n",
    "                    # we found the terminator\n",
    "                    if index > 0:\n",
    "                        # don't bother reporting the empty string (source of subtle bugs)\n",
    "                        # Sometimes one needs empty strings!\n",
    "                        pass\n",
    "                    #print 'Term found'\n",
    "                    sys.stdout.flush()\n",
    "                    self.collect_incoming_data (self.ac_in_buffer[:index])\n",
    "                    self.ac_in_buffer = self.ac_in_buffer[index+terminator_len:]\n",
    "                    # This does the Right Thing if the terminator is changed here.\n",
    "                    self.found_terminator()\n",
    "                else:\n",
    "                    # check for a prefix of the terminator\n",
    "                    index = asynchat.find_prefix_at_end (self.ac_in_buffer, terminator)\n",
    "                    if index:\n",
    "                        if index != lb:\n",
    "                            # we found a prefix, collect up to the prefix\n",
    "                            self.collect_incoming_data (self.ac_in_buffer[:-index])\n",
    "                            self.ac_in_buffer = self.ac_in_buffer[-index:]\n",
    "                        break\n",
    "                    else:\n",
    "                        # no prefix, collect it all\n",
    "                        self.collect_incoming_data (self.ac_in_buffer)\n",
    "                        self.ac_in_buffer = ''\n",
    "\n",
    "        \n",
    "    def collect_incoming_data(self, data):\n",
    "        '''Buffer the data'''\n",
    "        #print 'Collect:',\n",
    "        #dprint(data)\n",
    "        sys.stdout.flush()\n",
    "        self.ibuffer.append(data)\n",
    "    \n",
    "    def found_terminator(self):\n",
    "        if self.startup :\n",
    "            self.set_terminator('\\x3b')\n",
    "            self.startup=False\n",
    "            self.ibuffer=[]\n",
    "            print 'Hello!'\n",
    "            sys.stdout.flush()\n",
    "            return\n",
    "        if self.reading_headers :\n",
    "            print 'msg:',\n",
    "            self.reading_headers=False\n",
    "            self.ibuffer=[]\n",
    "            self.set_terminator(1)\n",
    "        elif self.handling :\n",
    "            self.handling=False\n",
    "            self.reading_headers=True\n",
    "            self.set_terminator('\\x3b')\n",
    "            #print self.ibuffer\n",
    "            self.msg=''.join(self.ibuffer)\n",
    "            dprint(self.msg)\n",
    "            if checksum(self.msg[:-1])!=ord(self.msg[-1]) :\n",
    "                print 'Checksum error!'\n",
    "        else :\n",
    "            self.handling=True\n",
    "            self.msglen=ord(self.ibuffer[0][0])\n",
    "            print '(%2d)' % self.msglen,\n",
    "            self.set_terminator(self.msglen+1)\n",
    "        sys.stdout.flush()"
   ]
  },
  {
   "cell_type": "code",
   "execution_count": 37,
   "metadata": {
    "collapsed": false,
    "scrolled": true
   },
   "outputs": [
    {
     "name": "stdout",
     "output_type": "stream",
     "text": [
      "Hello!\n",
      "msg: ( 4) 0x04 0x0d 0x11 0x24 0x06 0xb4\n",
      "msg: ( 3) 0x03 0x11 0x0d 0x24 0xbb\n",
      "msg: ( 4) 0x04 0x0d 0x11 0x24 0x00 0xba\n",
      "msg: ( 3) 0x03 0x11 0x0d 0x24 0xbb\n",
      "msg: ( 3) 0x03 0x0d 0x10 0x01 0xdf\n",
      "msg: ( 6) 0x06 0x10 0x0d 0x01 0x6f 0xa0 0x1e 0xaf\n",
      "msg: ( 3) 0x03 0x0d 0x11 0x01 0xde\n",
      "msg: ( 6) 0x06 0x11 0x0d 0x01 0x29 0x79 0x90 0xa9\n",
      "msg: ( 6) 0x06 0x0d 0x10 0x06 0x00 0x67 0x91 0xdf\n",
      "msg: ( 3) 0x03 0x10 0x0d 0x06 0xda\n",
      "msg: ( 6) 0x06 0x0d 0x11 0x06 0x00 0x0f 0x04 0xc3\n",
      "msg: ( 3) 0x03 0x11 0x0d 0x06 0xd9\n",
      "msg: ( 4) 0x04 0x0d 0x11 0x24 0x06 0xb4\n",
      "msg: ( 3) 0x03 0x11 0x0d 0x24 0xbb\n",
      "msg: ( 4) 0x04 0x0d 0x11 0x24 0x00 0xba\n",
      "msg: ( 3) 0x03 0x11 0x0d 0x24 0xbb\n",
      "msg: ( 3) 0x03 0x0d 0x10 0x01 0xdf\n",
      "msg: ( 6) 0x06 0x10 0x0d 0x01 0x6f 0xa1 0x6d 0x5f\n",
      "msg: ( 3) 0x03 0x0d 0x11 0x01 0xde\n",
      "msg: ( 6) 0x06 0x11 0x0d 0x01 0x29 0x90 0xab 0x77\n",
      "msg: ( 6) 0x06 0x0d 0x10 0x06 0x00 0x67 0xdb 0x95\n",
      "msg: ( 3) 0x03 0x10 0x0d 0x06 0xda\n",
      "msg: ( 6) 0x06 0x0d 0x11 0x06 0x00 0x0f 0x03 0xc4\n",
      "msg: ( 3) 0x03 0x11 0x0d 0x06 0xd9\n",
      "msg: ( 4) 0x04 0x0d 0x11 0x24 0x06 0xb4\n",
      "msg: ( 3) 0x03 0x11 0x0d 0x24 0xbb\n",
      "msg: ( 4) 0x04 0x0d 0x11 0x24 0x00 0xba\n",
      "msg: ( 3) 0x03 0x11 0x0d 0x24 0xbb\n",
      "msg: ( 3) 0x03 0x0d 0x10 0x01 0xdf\n",
      "msg: ( 6) 0x06 0x10 0x0d 0x01 0x6f 0xa3 0x7f 0x4b\n",
      "msg: ( 3) 0x03 0x0d 0x11 0x01 0xde\n",
      "msg: ( 6) 0x06 0x11 0x0d 0x01 0x29 0xba 0xa9 0x4f\n",
      "msg: ( 6) 0x06 0x0d 0x10 0x06 0x00 0x68 0x63 0x0c\n",
      "msg: ( 3) 0x03 0x10 0x0d 0x06 0xda\n",
      "msg: ( 6) 0x06 0x0d 0x11 0x06 0x00 0x0f 0x01 0xc6\n",
      "msg: ( 3) 0x03 0x11 0x0d 0x06 0xd9\n",
      "msg: ( 4) 0x04 0x0d 0x11 0x24 0x06 0xb4\n",
      "msg: ( 3) 0x03 0x11 0x0d 0x24 0xbb\n",
      "msg: ( 4) 0x04 0x0d 0x11 0x24 0x00 0xba\n",
      "msg: ( 3) 0x03 0x11 0x0d 0x24 0xbb\n",
      "msg: ( 3) 0x03 0x0d 0x10 0x01 0xdf\n",
      "msg: ( 6) 0x06 0x10 0x0d 0x01 0x6f 0xa4 0x91 0x38\n",
      "msg: ( 3) 0x03 0x0d 0x11 0x01 0xde\n",
      "msg: ( 6) 0x06 0x11 0x0d 0x01 0x29 0xcc 0x98 0x4e\n",
      "msg: ( 6) 0x06 0x0d 0x10 0x06 0x00 0x68 0x9e 0xd1\n",
      "msg: ( 3) 0x03 0x10 0x0d 0x06 0xda\n",
      "msg: ( 6) 0x06 0x0d 0x11 0x06 0x00 0x0f 0x00 0xc7\n",
      "msg: ( 3) 0x03 0x11 0x0d 0x06 0xd9\n",
      "msg: ( 3) 0x03 0x0d 0x10 0x01 0xdf\n",
      "msg: ( 6) 0x06 0x10 0x0d 0x01 0x6f 0xcc 0x59 0x48\n",
      "msg: ( 3) 0x03 0x0d 0x11 0x01 0xde\n",
      "msg: ( 6) 0x06 0x11 0x0d 0x01 0x29 0xd3 0x03 0xdc\n",
      "msg: ( 6) 0x06 0x0d 0x10 0x06 0x00 0x68 0xcb 0xa4\n",
      "msg: ( 3) 0x03 0x10 0x0d 0x06 0xda\n",
      "msg: ( 6) 0x06 0x0d 0x11 0x06 0x00 0x0e 0xde 0xea\n",
      "msg: ( 3) 0x03 0x11 0x0d 0x06 0xd9\n",
      "msg: ( 4) 0x04 0x0d 0x11 0x24 0x06 0xb4\n",
      "msg: ( 3) 0x03 0x11 0x0d 0x24 0xbb\n",
      "msg: ( 4) 0x04 0x0d 0x11 0x24 0x00 0xba\n",
      "msg: ( 3) 0x03 0x11 0x0d 0x24 0xbb\n",
      "msg: ( 3) 0x03 0x0d 0x10 0x01 0xdf\n",
      "msg: ( 6) 0x06 0x10 0x0d 0x01 0x6f 0xf1 0x81 0xfb\n",
      "msg: ( 3) 0x03 0x0d 0x11 0x01 0xde\n",
      "msg: ( 6) 0x06 0x11 0x0d 0x01 0x2a 0x64 0x58 0xf5\n",
      "msg: ( 6) 0x06 0x0d 0x10 0x06 0x00 0x6a 0xc7 0xa6\n",
      "msg: ( 3) 0x03 0x10 0x0d 0x06 0xda\n",
      "msg: ( 6) 0x06 0x0d 0x11 0x06 0x00 0x0e 0xbd 0x0b\n",
      "msg: ( 3) 0x03 0x11 0x0d 0x06 0xd9\n"
     ]
    }
   ],
   "source": [
    "nse=scope()\n",
    "asynchat.asyncore.loop(count=25)\n",
    "nse.socket.close()"
   ]
  },
  {
   "cell_type": "code",
   "execution_count": 33,
   "metadata": {
    "collapsed": true
   },
   "outputs": [],
   "source": [
    "nse.socket.close()"
   ]
  },
  {
   "cell_type": "code",
   "execution_count": 119,
   "metadata": {
    "collapsed": false
   },
   "outputs": [],
   "source": [
    "?? asynchat.async_chat"
   ]
  },
  {
   "cell_type": "code",
   "execution_count": 2,
   "metadata": {
    "collapsed": false
   },
   "outputs": [
    {
     "name": "stdout",
     "output_type": "stream",
     "text": [
      "Socket Created\n",
      "Socket Connected to 1.2.3.4 on ip 1.2.3.4\n"
     ]
    }
   ],
   "source": [
    " \n",
    "#create an INET, STREAMing socket\n",
    "try:\n",
    "    s = socket.socket(socket.AF_INET, socket.SOCK_STREAM)\n",
    "except socket.error:\n",
    "    print 'Failed to create socket'\n",
    "    sys.exit()\n",
    "     \n",
    "print 'Socket Created'\n",
    " \n",
    "host = '1.2.3.4';\n",
    "port = 2000;\n",
    " \n",
    "try:\n",
    "    remote_ip = socket.gethostbyname( host )\n",
    " \n",
    "except socket.gaierror:\n",
    "    #could not resolve\n",
    "    print 'Hostname could not be resolved. Exiting'\n",
    "    sys.exit()\n",
    " \n",
    "#Connect to remote server\n",
    "s.connect((host , port))\n",
    " \n",
    "print 'Socket Connected to ' + host + ' on ip ' + remote_ip"
   ]
  },
  {
   "cell_type": "code",
   "execution_count": 62,
   "metadata": {
    "collapsed": false
   },
   "outputs": [],
   "source": [
    "targets={'ANY':'\\x00',\n",
    "         'MB' :'\\x01',\n",
    "         'HC' :'\\x04',\n",
    "         'HC+':'\\x0d',\n",
    "         'AZM':'\\x10',\n",
    "         'ALT':'\\x11',\n",
    "         'APP':'\\x20',\n",
    "         'GPS':'\\xb0',\n",
    "         'WiFi':'\\xb5',\n",
    "         'BAT':'\\xb6',\n",
    "         'CHG':'\\xb7',\n",
    "         'LIGHT':'\\xbf'\n",
    "        }\n",
    "commands={\n",
    "          'MC_GET_POSITION':'\\x01',\n",
    "          'MC_GOTO_FAST':'\\x02',\n",
    "          'MC_SET_POSITION':'\\x04',\n",
    "          'MC_SET_POS_GUIDERATE':'\\x06',\n",
    "          'MC_SET_NEG_GUIDERATE':'\\x07',\n",
    "          'MC_LEVEL_START':'\\x0b',\n",
    "          'MC_GOTO_SLOW':'\\x17',\n",
    "          'MC_SEEK_INDEX':'\\x19',\n",
    "          'MC_SET_AUTOGUIDE_RATE':'\\x46',\n",
    "          'MC_GET_AUTOGUIDE_RATE':'\\x47',\n",
    "          'GET_VER':'\\xfe',\n",
    "          'GET_BATT_STATUS':'\\x10',\n",
    "         }\n",
    "\n",
    "trgid={}\n",
    "for k in targets.keys():\n",
    "    trgid[ord(targets[k])]=k\n",
    "cmdid={}\n",
    "for k in commands.keys():\n",
    "    cmdid[ord(commands[k])]=k\n",
    "    \n",
    "def checksum(msg):\n",
    "    return ((~sum([ord(c) for c in msg]) + 1) ) & 0xFF\n",
    "\n",
    "def f2dms(f):\n",
    "    d=360*f\n",
    "    dd=int(d)\n",
    "    mm=int((d-dd)*60)\n",
    "    ss=(d-dd-mm/60)*3600\n",
    "    return dd,mm,ss\n",
    "\n",
    "def parse_pos(dat,s=None,d=None):\n",
    "    if len(dat)==3 :\n",
    "        pos=struct.unpack('!i','\\x00'+dat)[0]/2**24\n",
    "        return u'%03d°%02d\\'%04.1f\"' % f2dms(pos)\n",
    "    else :\n",
    "        return ''\n",
    "\n",
    "def parse_bat(dat):\n",
    "    #dprint(dat)\n",
    "    batstat={\n",
    "        '\\x00':'LOW',\n",
    "        '\\x01':'MEDIUM',\n",
    "        '\\x02':'HIGH',\n",
    "    }\n",
    "    if len(dat)==6 :\n",
    "        return u'%6s: %.4fV %s ' % ( batstat[dat[1]],\n",
    "                                     struct.unpack('!i',dat[2:])[0]/1e6,\n",
    "                                     'Charging' if dat[0]=='\\x01' else 'Discharging' )\n",
    "    else :\n",
    "        return ''\n",
    "    \n",
    "def parse_10(dat,s=None,d=None):\n",
    "    if s==0xb6 or d==0xb6 :\n",
    "        return parse_bat(dat)\n",
    "    else :\n",
    "        return ''.join(['0x%02x ' % ord(b) for b in dat])\n",
    "    \n",
    "parsers={\n",
    "    '\\x01':parse_pos,\n",
    "    '\\x02':parse_pos,\n",
    "    '\\x04':parse_pos,\n",
    "    '\\x06':parse_pos,\n",
    "    '\\x07':parse_pos,\n",
    "    '\\x17':parse_pos,\n",
    "    '\\x10':parse_10,\n",
    "    '\\x11':parse_10,\n",
    "}\n",
    "\n",
    "def send_cmd(sck, src='APP', trg='AZM', cmd='GET_VER', data=''):\n",
    "    pre='\\x3b'\n",
    "    msg=targets[src]+targets[trg]+commands[cmd]+data\n",
    "    msg=chr(len(msg))+msg\n",
    "    sck.sendall(pre+msg+chr(checksum(msg)))\n",
    "\n",
    "\n",
    "def split_msgs(r,debug=False):\n",
    "    l=r.find('\\x3b')+1\n",
    "    p=l\n",
    "    ml=[]\n",
    "    while p>-1:\n",
    "        p=r.find('\\x3b',l)\n",
    "        #if debug : print l, p\n",
    "        ml.append(r[l:p]+r[p])\n",
    "        l=p+1\n",
    "    if debug : print ml\n",
    "    return ml\n",
    "    \n",
    "def parse_msg(m, debug=False):\n",
    "    '''\n",
    "    Parse bytes byond 0x3b. \n",
    "    Do not pass the message with preamble!\n",
    "    '''\n",
    "    l=ord(m[0])+1\n",
    "    msg=m[:l]\n",
    "    if debug :\n",
    "        print 'Parse:',\n",
    "        dprint(msg)\n",
    "    if  chr(checksum(msg)) != m[l] :\n",
    "        print 'Checksum error: %x vs. %02x' % (checksum(msg) , ord(m[l]))\n",
    "        dprint(m)\n",
    "    l,src,dst,mid=struct.unpack('4B',msg[:4])\n",
    "    dat=msg[4:l+1]\n",
    "    #print 'len:', l\n",
    "    return l, src, dst, mid, dat\n",
    "\n",
    "\n",
    "def print_msg(l,s,d,i,dat):\n",
    "    try :\n",
    "        print '[%d] %4s => %4s (%12s): ' % (l,trgid[s],trgid[d],cmdid[i]),\n",
    "    except KeyError :\n",
    "        print '[%d] %02x => %02x (%02x): ' % (l,s,d,i),\n",
    "    if chr(i) in parsers:\n",
    "        print parsers[chr(i)](dat,s,d),\n",
    "    else :\n",
    "        dprint(dat)\n",
    "\n",
    "def rcv_msg(sck, trg='NET', debug=False):\n",
    "    r = sck.recv(4096)\n",
    "    #dprint(r)\n",
    "    we=ord(targets[trg])\n",
    "    ml=[]\n",
    "    for m in split_msgs(r,debug=debug):\n",
    "        if debug :\n",
    "            print 'RCV:',\n",
    "            dprint(m)\n",
    "        try :\n",
    "            l,s,d,i,dat=parse_msg(m,debug=debug)\n",
    "            if trg!='ANY' and d!=we and s!=we:\n",
    "                #print 'Not for us (%02x): %02x ->  %02x' % (we, s, d)\n",
    "                continue\n",
    "            if debug : print_msg(l,s,d,i,dat)\n",
    "            ml.append([l,s,d,i,dat])\n",
    "        except IndexError :\n",
    "            print 'Parse ERROR:',\n",
    "            dprint(m)\n",
    "    return ml\n",
    "\n",
    "\n",
    "def get_pos(sck,trg='ALT'):\n",
    "    send_cmd(s,trg=trg,cmd='MC_GET_POSITION')\n",
    "    time.sleep(0.05)\n",
    "    ml=rcv_msg(s)\n",
    "    dat='\\x00'+ml[-1][-1]\n",
    "    return struct.unpack('!i',dat)[0]/2**24\n",
    "    \n",
    "def get_ver(sck,trg='MB'):\n",
    "    send_cmd(sck,trg=trg,cmd='GET_VER')\n",
    "    msg=rcv_msg(sck)[-1]\n",
    "    return tuple(['%02x' % ord(c) for c in msg[-1]])\n",
    "\n",
    "def show_pos(sck):\n",
    "    azm=get_pos(sck,trg='AZM')\n",
    "    print u'\\rAZM %03d°%02d\\'%04.1f\"' % f2dms(azm),\n",
    "    time.sleep(0.1)\n",
    "    alt=get_pos(sck,trg='ALT')\n",
    "    print u'ALT %+02d°%02d\\'%04.1f\"' % f2dms(alt),\n"
   ]
  },
  {
   "cell_type": "code",
   "execution_count": 38,
   "metadata": {
    "collapsed": false
   },
   "outputs": [
    {
     "ename": "TypeError",
     "evalue": "'NoneType' object is not iterable",
     "output_type": "error",
     "traceback": [
      "\u001b[1;31m---------------------------------------------------------------------------\u001b[0m",
      "\u001b[1;31mTypeError\u001b[0m                                 Traceback (most recent call last)",
      "\u001b[1;32m<ipython-input-38-40ec65e5a562>\u001b[0m in \u001b[0;36m<module>\u001b[1;34m()\u001b[0m\n\u001b[0;32m      2\u001b[0m     \u001b[1;32mreturn\u001b[0m\u001b[1;33m\u001b[0m\u001b[0m\n\u001b[0;32m      3\u001b[0m \u001b[1;33m\u001b[0m\u001b[0m\n\u001b[1;32m----> 4\u001b[1;33m \u001b[0ma\u001b[0m\u001b[1;33m,\u001b[0m\u001b[0mb\u001b[0m\u001b[1;33m,\u001b[0m\u001b[0mc\u001b[0m\u001b[1;33m=\u001b[0m\u001b[0mtttt\u001b[0m\u001b[1;33m(\u001b[0m\u001b[1;33m)\u001b[0m\u001b[1;33m\u001b[0m\u001b[0m\n\u001b[0m",
      "\u001b[1;31mTypeError\u001b[0m: 'NoneType' object is not iterable"
     ]
    }
   ],
   "source": [
    "def tttt():\n",
    "    return\n",
    "\n",
    "a,b,c=tttt()"
   ]
  },
  {
   "cell_type": "code",
   "execution_count": 46,
   "metadata": {
    "collapsed": false,
    "scrolled": true
   },
   "outputs": [
    {
     "name": "stdout",
     "output_type": "stream",
     "text": [
      "[3]  HC+ =>  AZM (MC_GET_POSITION):  \n",
      "[6]  AZM =>  HC+ (MC_GET_POSITION):  084°29'43.9\"\n",
      "[3]  HC+ =>  ALT (MC_GET_POSITION):  \n",
      "[6]  ALT =>  HC+ (MC_GET_POSITION):  023°00'22.1\"\n",
      "[6]  HC+ =>  AZM (MC_SET_POS_GUIDERATE):  000°14'40.5\"\n",
      "[3]  AZM =>  HC+ (MC_SET_POS_GUIDERATE):  \n",
      "[6]  HC+ =>  ALT (MC_SET_POS_GUIDERATE):  000°12'41.3\"\n",
      "[3]  ALT =>  HC+ (MC_SET_POS_GUIDERATE):  \n",
      "[3]  HC+ =>  AZM (MC_GET_POSITION):  \n",
      "[6]  AZM =>  HC+ (MC_GET_POSITION):  084°35'18.8\"\n",
      "[3]  HC+ =>  ALT (MC_GET_POSITION):  \n",
      "[6]  ALT =>  HC+ (MC_GET_POSITION):  023°05'11.6\"\n",
      "[6]  HC+ =>  AZM (MC_SET_POS_GUIDERATE):  000°14'40.9\"\n",
      "[3]  AZM =>  HC+ (MC_SET_POS_GUIDERATE):  \n",
      "[6]  HC+ =>  ALT (MC_SET_POS_GUIDERATE):  000°12'41.4\"\n",
      "[3]  ALT =>  HC+ (MC_SET_POS_GUIDERATE):  \n",
      "[3]  HC+ =>  AZM (MC_GET_POSITION):  \n",
      "[6]  AZM =>  HC+ (MC_GET_POSITION):  084°40'53.7\"\n",
      "[3]  HC+ =>  ALT (MC_GET_POSITION):  \n",
      "[6]  ALT =>  HC+ (MC_GET_POSITION):  023°10'01.1\"\n",
      "[6]  HC+ =>  AZM (MC_SET_POS_GUIDERATE):  000°14'41.2\"\n",
      "[3]  AZM =>  HC+ (MC_SET_POS_GUIDERATE):  \n",
      "[6]  HC+ =>  ALT (MC_SET_POS_GUIDERATE):  000°12'41.5\"\n",
      "[3]  ALT =>  HC+ (MC_SET_POS_GUIDERATE):  \n",
      "[3]  HC+ =>  AZM (MC_GET_POSITION):  \n",
      "[6]  AZM =>  HC+ (MC_GET_POSITION):  084°46'28.7\"\n",
      "[3]  HC+ =>  ALT (MC_GET_POSITION):  \n",
      "[6]  ALT =>  HC+ (MC_GET_POSITION):  023°14'50.5\"\n",
      "[6]  HC+ =>  AZM (MC_SET_POS_GUIDERATE):  000°14'41.7\"\n",
      "[3]  AZM =>  HC+ (MC_SET_POS_GUIDERATE):  \n",
      "[6]  HC+ =>  ALT (MC_SET_POS_GUIDERATE):  000°12'41.6\"\n",
      "[3]  ALT =>  HC+ (MC_SET_POS_GUIDERATE):  \n",
      "[3]  HC+ =>  AZM (MC_GET_POSITION):  \n",
      "[6]  AZM =>  HC+ (MC_GET_POSITION):  084°52'04.1\"\n",
      "[3]  HC+ =>  ALT (MC_GET_POSITION):  \n",
      "[6]  ALT =>  HC+ (MC_GET_POSITION):  023°19'40.2\"\n",
      "[6]  HC+ =>  AZM (MC_SET_POS_GUIDERATE):  000°14'42.1\"\n",
      "[3]  AZM =>  HC+ (MC_SET_POS_GUIDERATE):  \n",
      "[6]  HC+ =>  ALT (MC_SET_POS_GUIDERATE):  000°12'41.7\"\n",
      "[3]  ALT =>  HC+ (MC_SET_POS_GUIDERATE):  \n",
      "[3]  HC+ =>  AZM (MC_GET_POSITION):  \n",
      "[6]  AZM =>  HC+ (MC_GET_POSITION):  084°57'39.6\"\n",
      "[3]  HC+ =>  ALT (MC_GET_POSITION):  \n",
      "[6]  ALT =>  HC+ (MC_GET_POSITION):  023°24'29.8\"\n",
      "[6]  HC+ =>  AZM (MC_SET_POS_GUIDERATE):  000°14'42.6\"\n",
      "[3]  AZM =>  HC+ (MC_SET_POS_GUIDERATE):  \n",
      "[6]  HC+ =>  ALT (MC_SET_POS_GUIDERATE):  000°12'41.8\"\n",
      "[3]  ALT =>  HC+ (MC_SET_POS_GUIDERATE):  \n",
      "[3]  HC+ =>  AZM (MC_GET_POSITION):  \n",
      "[6]  AZM =>  HC+ (MC_GET_POSITION):  085°03'15.0\"\n",
      "[3]  HC+ =>  ALT (MC_GET_POSITION):  \n",
      "[6]  ALT =>  HC+ (MC_GET_POSITION):  023°29'19.5\"\n",
      "[6]  HC+ =>  AZM (MC_SET_POS_GUIDERATE):  000°14'42.9\"\n",
      "[3]  AZM =>  HC+ (MC_SET_POS_GUIDERATE):  \n",
      "[6]  HC+ =>  ALT (MC_SET_POS_GUIDERATE):  000°12'42.0\"\n",
      "[3]  ALT =>  HC+ (MC_SET_POS_GUIDERATE):  \n",
      "[3]  HC+ =>  AZM (MC_GET_POSITION):  \n",
      "[6]  AZM =>  HC+ (MC_GET_POSITION):  085°08'50.8\"\n",
      "[3]  HC+ =>  ALT (MC_GET_POSITION):  \n",
      "[6]  ALT =>  HC+ (MC_GET_POSITION):  023°34'09.2\"\n",
      "[6]  HC+ =>  AZM (MC_SET_POS_GUIDERATE):  000°14'43.4\"\n",
      "[3]  AZM =>  HC+ (MC_SET_POS_GUIDERATE):  \n",
      "[6]  HC+ =>  ALT (MC_SET_POS_GUIDERATE):  000°12'42.0\"\n",
      "[3]  ALT =>  HC+ (MC_SET_POS_GUIDERATE):  \n",
      "[3]  HC+ =>  AZM (MC_GET_POSITION):  \n",
      "[6]  AZM =>  HC+ (MC_GET_POSITION):  085°14'26.6\"\n",
      "[3]  HC+ =>  ALT (MC_GET_POSITION):  \n",
      "[6]  ALT =>  HC+ (MC_GET_POSITION):  023°38'58.9\"\n",
      "[6]  HC+ =>  AZM (MC_SET_POS_GUIDERATE):  000°14'43.8\"\n",
      "[3]  AZM =>  HC+ (MC_SET_POS_GUIDERATE):  \n",
      "[6]  HC+ =>  ALT (MC_SET_POS_GUIDERATE):  000°12'42.1\"\n",
      "[3]  ALT =>  HC+ (MC_SET_POS_GUIDERATE):  \n",
      "[3]  HC+ =>  AZM (MC_GET_POSITION):  \n",
      "[6]  AZM =>  HC+ (MC_GET_POSITION):  085°20'02.8\"\n",
      "[3]  HC+ =>  ALT (MC_GET_POSITION):  \n",
      "[6]  ALT =>  HC+ (MC_GET_POSITION):  023°43'48.9\"\n",
      "[6]  HC+ =>  AZM (MC_SET_POS_GUIDERATE):  000°14'44.3\"\n",
      "[3]  AZM =>  HC+ (MC_SET_POS_GUIDERATE):  \n",
      "[6]  HC+ =>  ALT (MC_SET_POS_GUIDERATE):  000°12'42.3\"\n",
      "[3]  ALT =>  HC+ (MC_SET_POS_GUIDERATE):  \n",
      "[3]  HC+ =>  AZM (MC_GET_POSITION):  \n",
      "[6]  AZM =>  HC+ (MC_GET_POSITION):  085°25'39.0\"\n",
      "[3]  HC+ =>  ALT (MC_GET_POSITION):  \n",
      "[6]  ALT =>  HC+ (MC_GET_POSITION):  023°48'38.7\"\n",
      "[6]  HC+ =>  AZM (MC_SET_POS_GUIDERATE):  000°14'44.7\"\n",
      "[3]  AZM =>  HC+ (MC_SET_POS_GUIDERATE):  \n",
      "[6]  HC+ =>  ALT (MC_SET_POS_GUIDERATE):  000°12'42.4\"\n",
      "[3]  ALT =>  HC+ (MC_SET_POS_GUIDERATE):  \n",
      "[3]  HC+ =>  AZM (MC_GET_POSITION):  \n",
      "[6]  AZM =>  HC+ (MC_GET_POSITION):  085°26'04.3\"\n",
      "[3]  HC+ =>  ALT (MC_GET_POSITION):  \n",
      "[6]  ALT =>  HC+ (MC_GET_POSITION):  023°49'00.5\"\n",
      "[3]  HC+ =>  AZM (MC_GET_POSITION):  \n",
      "[6]  AZM =>  HC+ (MC_GET_POSITION):  085°26'06.8\"\n",
      "[3]  HC+ =>  ALT (MC_GET_POSITION):  \n",
      "[6]  ALT =>  HC+ (MC_GET_POSITION):  023°49'02.7\"\n",
      "[3]  HC+ =>  AZM (MC_GET_POSITION):  \n",
      "[6]  AZM =>  HC+ (MC_GET_POSITION):  085°26'18.1\"\n",
      "[3]  HC+ =>  ALT (MC_GET_POSITION):  \n",
      "[6]  ALT =>  HC+ (MC_GET_POSITION):  023°49'12.4\"\n",
      "[3]  HC+ =>  AZM (MC_GET_POSITION):  \n",
      "[6]  AZM =>  HC+ (MC_GET_POSITION):  085°26'29.4\"\n",
      "[3]  HC+ =>  ALT (MC_GET_POSITION):  \n",
      "[6]  ALT =>  HC+ (MC_GET_POSITION):  023°49'22.2\"\n",
      "[3]  HC+ =>  AZM (MC_GET_POSITION):  \n",
      "[6]  AZM =>  HC+ (MC_GET_POSITION):  085°26'40.9\"\n",
      "[3]  HC+ =>  ALT (MC_GET_POSITION):  \n",
      "[6]  ALT =>  HC+ (MC_GET_POSITION):  023°49'32.1\"\n",
      "[3]  HC+ =>  AZM (MC_GET_POSITION):  \n",
      "[6]  AZM =>  HC+ (MC_GET_POSITION):  085°26'52.4\"\n",
      "[3]  HC+ =>  ALT (MC_GET_POSITION):  \n",
      "[6]  ALT =>  HC+ (MC_GET_POSITION):  023°49'41.9\"\n",
      "[3]  HC+ =>  AZM (MC_GET_POSITION):  \n",
      "[6]  AZM =>  HC+ (MC_GET_POSITION):  085°27'03.8\"\n",
      "[3]  HC+ =>  ALT (MC_GET_POSITION):  \n",
      "[6]  ALT =>  HC+ (MC_GET_POSITION):  023°49'51.7\"\n",
      "[3]  HC+ =>  AZM (MC_GET_POSITION):  \n",
      "[6]  AZM =>  HC+ (MC_GET_POSITION):  085°27'15.3\"\n",
      "[3]  HC+ =>  ALT (MC_GET_POSITION):  \n",
      "[6]  ALT =>  HC+ (MC_GET_POSITION):  023°50'01.6\"\n",
      "[3]  HC+ =>  AZM (MC_GET_POSITION):  \n",
      "[6]  AZM =>  HC+ (MC_GET_POSITION):  085°27'26.7\"\n",
      "[3]  HC+ =>  ALT (MC_GET_POSITION):  \n",
      "[6]  ALT =>  HC+ (MC_GET_POSITION):  023°50'11.6\"\n",
      "[3]  HC+ =>  AZM (MC_GET_POSITION):  \n",
      "[6]  AZM =>  HC+ (MC_GET_POSITION):  085°27'38.2\"\n",
      "[3]  HC+ =>  ALT (MC_GET_POSITION):  \n",
      "[6]  ALT =>  HC+ (MC_GET_POSITION):  023°50'21.3\"\n",
      "[3]  HC+ =>  AZM (MC_GET_POSITION):  \n",
      "[6]  AZM =>  HC+ (MC_GET_POSITION):  085°27'49.6\"\n",
      "[3]  HC+ =>  ALT (MC_GET_POSITION):  \n",
      "[6]  ALT =>  HC+ (MC_GET_POSITION):  023°50'31.3\"\n",
      "[3]  HC+ =>  AZM (MC_GET_POSITION):  \n",
      "[6]  AZM =>  HC+ (MC_GET_POSITION):  085°28'01.1\"\n",
      "[3]  HC+ =>  ALT (MC_GET_POSITION):  \n",
      "[6]  ALT =>  HC+ (MC_GET_POSITION):  023°50'41.2\"\n",
      "[3]  HC+ =>  AZM (MC_GET_POSITION):  \n",
      "[6]  AZM =>  HC+ (MC_GET_POSITION):  085°28'12.5\"\n",
      "[3]  HC+ =>  ALT (MC_GET_POSITION):  \n",
      "[6]  ALT =>  HC+ (MC_GET_POSITION):  023°50'51.0\"\n",
      "[3]  HC+ =>  AZM (MC_GET_POSITION):  \n",
      "[6]  AZM =>  HC+ (MC_GET_POSITION):  085°28'24.0\"\n",
      "[3]  HC+ =>  ALT (MC_GET_POSITION):  \n",
      "[6]  ALT =>  HC+ (MC_GET_POSITION):  023°51'00.9\"\n",
      "[3]  HC+ =>  AZM (MC_GET_POSITION):  \n",
      "[6]  AZM =>  HC+ (MC_GET_POSITION):  085°28'35.5\"\n",
      "[3]  HC+ =>  ALT (MC_GET_POSITION):  \n",
      "[6]  ALT =>  HC+ (MC_GET_POSITION):  023°51'10.8\"\n",
      "[3]  HC+ =>  AZM (MC_GET_POSITION):  \n",
      "[6]  AZM =>  HC+ (MC_GET_POSITION):  085°28'46.9\"\n",
      "[3]  HC+ =>  ALT (MC_GET_POSITION):  \n",
      "[6]  ALT =>  HC+ (MC_GET_POSITION):  023°51'20.6\"\n",
      "[3]  HC+ =>  AZM (MC_GET_POSITION):  \n",
      "[6]  AZM =>  HC+ (MC_GET_POSITION):  085°28'58.4\"\n",
      "[3]  HC+ =>  ALT (MC_GET_POSITION):  \n",
      "[6]  ALT =>  HC+ (MC_GET_POSITION):  023°51'30.5\"\n",
      "[3]  HC+ =>  AZM (MC_GET_POSITION):  \n",
      "[6]  AZM =>  HC+ (MC_GET_POSITION):  085°29'09.7\"\n",
      "[3]  HC+ =>  ALT (MC_GET_POSITION):  \n",
      "[6]  ALT =>  HC+ (MC_GET_POSITION):  023°51'40.4\"\n",
      "[3]  HC+ =>  AZM (MC_GET_POSITION):  \n",
      "[6]  AZM =>  HC+ (MC_GET_POSITION):  085°29'21.3\"\n",
      "[3]  HC+ =>  ALT (MC_GET_POSITION):  \n",
      "[6]  ALT =>  HC+ (MC_GET_POSITION):  023°51'50.2\"\n",
      "[3]  HC+ =>  AZM (MC_GET_POSITION):  \n",
      "[6]  AZM =>  HC+ (MC_GET_POSITION):  085°29'32.7\"\n",
      "[3]  HC+ =>  ALT (MC_GET_POSITION):  \n",
      "[6]  ALT =>  HC+ (MC_GET_POSITION):  023°52'00.1\"\n",
      "[3]  HC+ =>  AZM (MC_GET_POSITION):  \n",
      "[6]  AZM =>  HC+ (MC_GET_POSITION):  085°29'44.1\"\n",
      "[3]  HC+ =>  ALT (MC_GET_POSITION):  \n",
      "[6]  ALT =>  HC+ (MC_GET_POSITION):  023°52'10.0\"\n",
      "[3]  HC+ =>  AZM (MC_GET_POSITION):  \n",
      "[6]  AZM =>  HC+ (MC_GET_POSITION):  085°29'55.6\"\n",
      "[3]  HC+ =>  ALT (MC_GET_POSITION):  \n",
      "[6]  ALT =>  HC+ (MC_GET_POSITION):  023°52'19.9\"\n",
      "[3]  HC+ =>  AZM (MC_GET_POSITION):  \n",
      "[6]  AZM =>  HC+ (MC_GET_POSITION):  085°30'07.1\"\n",
      "[3]  HC+ =>  ALT (MC_GET_POSITION):  \n",
      "[6]  ALT =>  HC+ (MC_GET_POSITION):  023°52'29.7\"\n",
      "[3]  HC+ =>  AZM (MC_GET_POSITION):  \n",
      "[6]  AZM =>  HC+ (MC_GET_POSITION):  085°30'18.6\"\n",
      "[3]  HC+ =>  ALT (MC_GET_POSITION):  \n",
      "[6]  ALT =>  HC+ (MC_GET_POSITION):  023°52'39.6\"\n",
      "[3]  HC+ =>  AZM (MC_GET_POSITION):  \n",
      "[6]  AZM =>  HC+ (MC_GET_POSITION):  085°30'29.9\"\n",
      "[3]  HC+ =>  ALT (MC_GET_POSITION):  \n",
      "[6]  ALT =>  HC+ (MC_GET_POSITION):  023°52'49.5\"\n",
      "[3]  HC+ =>  AZM (MC_GET_POSITION):  \n",
      "[6]  AZM =>  HC+ (MC_GET_POSITION):  085°30'41.5\"\n",
      "[3]  HC+ =>  ALT (MC_GET_POSITION):  \n",
      "[6]  ALT =>  HC+ (MC_GET_POSITION):  023°52'59.3\"\n",
      "[3]  HC+ =>  AZM (MC_GET_POSITION):  \n",
      "[6]  AZM =>  HC+ (MC_GET_POSITION):  085°30'52.9\"\n",
      "[3]  HC+ =>  ALT (MC_GET_POSITION):  \n",
      "[6]  ALT =>  HC+ (MC_GET_POSITION):  023°53'09.2\"\n",
      "[3]  HC+ =>  AZM (MC_GET_POSITION):  \n",
      "[6]  AZM =>  HC+ (MC_GET_POSITION):  085°31'04.4\"\n",
      "[3]  HC+ =>  ALT (MC_GET_POSITION):  \n",
      "[6]  ALT =>  HC+ (MC_GET_POSITION):  023°53'19.1\"\n",
      "[3]  HC+ =>  AZM (MC_GET_POSITION):  \n",
      "[6]  AZM =>  HC+ (MC_GET_POSITION):  085°31'15.4\"\n",
      "[3]  HC+ =>  ALT (MC_GET_POSITION):  \n",
      "[6]  ALT =>  HC+ (MC_GET_POSITION):  023°53'28.6\"\n",
      "[6]  HC+ =>  AZM (MC_SET_POS_GUIDERATE):  000°14'45.2\"\n",
      "[3]  AZM =>  HC+ (MC_SET_POS_GUIDERATE):  \n",
      "[6]  HC+ =>  ALT (MC_SET_POS_GUIDERATE):  000°12'42.4\"\n",
      "[3]  ALT =>  HC+ (MC_SET_POS_GUIDERATE):  \n",
      "[3]  HC+ =>  AZM (MC_GET_POSITION):  \n",
      "[6]  AZM =>  HC+ (MC_GET_POSITION):  085°31'16.3\"\n",
      "[3]  HC+ =>  ALT (MC_GET_POSITION):  \n",
      "[6]  ALT =>  HC+ (MC_GET_POSITION):  023°53'29.4\"\n",
      "[3]  HC+ =>  AZM (MC_GET_POSITION):  \n",
      "[6]  AZM =>  HC+ (MC_GET_POSITION):  085°31'27.4\"\n",
      "[3]  HC+ =>  ALT (MC_GET_POSITION):  \n",
      "[6]  ALT =>  HC+ (MC_GET_POSITION):  023°53'38.9\"\n",
      "[3]  HC+ =>  AZM (MC_GET_POSITION):  \n",
      "[6]  AZM =>  HC+ (MC_GET_POSITION):  085°31'38.8\"\n",
      "[3]  HC+ =>  ALT (MC_GET_POSITION):  \n",
      "[6]  ALT =>  HC+ (MC_GET_POSITION):  023°53'48.7\"\n",
      "[3]  HC+ =>  AZM (MC_GET_POSITION):  \n",
      "[6]  AZM =>  HC+ (MC_GET_POSITION):  085°31'50.2\"\n",
      "[3]  HC+ =>  ALT (MC_GET_POSITION):  \n",
      "[6]  ALT =>  HC+ (MC_GET_POSITION):  023°53'58.7\"\n",
      "[3]  HC+ =>  AZM (MC_GET_POSITION):  \n",
      "[6]  AZM =>  HC+ (MC_GET_POSITION):  085°32'01.7\"\n",
      "[3]  HC+ =>  ALT (MC_GET_POSITION):  \n",
      "[6]  ALT =>  HC+ (MC_GET_POSITION):  023°54'08.4\"\n",
      "[3]  HC+ =>  AZM (MC_GET_POSITION):  \n",
      "[6]  AZM =>  HC+ (MC_GET_POSITION):  085°32'13.1\"\n",
      "[3]  HC+ =>  ALT (MC_GET_POSITION):  \n",
      "[6]  ALT =>  HC+ (MC_GET_POSITION):  023°54'18.3\"\n",
      "[3]  HC+ =>  AZM (MC_GET_POSITION):  \n",
      "[6]  AZM =>  HC+ (MC_GET_POSITION):  085°32'24.6\"\n",
      "[3]  HC+ =>  ALT (MC_GET_POSITION):  \n",
      "[6]  ALT =>  HC+ (MC_GET_POSITION):  023°54'28.2\"\n",
      "[3]  HC+ =>  AZM (MC_GET_POSITION):  \n",
      "[6]  AZM =>  HC+ (MC_GET_POSITION):  085°32'36.1\"\n",
      "[3]  HC+ =>  ALT (MC_GET_POSITION):  \n",
      "[6]  ALT =>  HC+ (MC_GET_POSITION):  023°54'38.0\"\n",
      "[3]  HC+ =>  AZM (MC_GET_POSITION):  \n",
      "[6]  AZM =>  HC+ (MC_GET_POSITION):  085°32'47.5\"\n",
      "[3]  HC+ =>  ALT (MC_GET_POSITION):  \n",
      "[6]  ALT =>  HC+ (MC_GET_POSITION):  023°54'47.9\"\n",
      "[3]  HC+ =>  AZM (MC_GET_POSITION):  \n",
      "[6]  AZM =>  HC+ (MC_GET_POSITION):  085°32'59.0\"\n",
      "[3]  HC+ =>  ALT (MC_GET_POSITION):  \n",
      "[6]  ALT =>  HC+ (MC_GET_POSITION):  023°54'57.7\"\n",
      "[3]  HC+ =>  AZM (MC_GET_POSITION):  \n",
      "[6]  AZM =>  HC+ (MC_GET_POSITION):  085°33'10.4\"\n",
      "[3]  HC+ =>  ALT (MC_GET_POSITION):  \n",
      "[6]  ALT =>  HC+ (MC_GET_POSITION):  023°55'07.7\"\n",
      "[3]  HC+ =>  AZM (MC_GET_POSITION):  \n",
      "[6]  AZM =>  HC+ (MC_GET_POSITION):  085°34'59.0\"\n",
      "[3]  HC+ =>  ALT (MC_GET_POSITION):  \n",
      "[6]  ALT =>  HC+ (MC_GET_POSITION):  023°56'41.2\"\n",
      "[3]  HC+ =>  AZM (MC_GET_POSITION):  \n",
      "[6]  AZM =>  HC+ (MC_GET_POSITION):  085°36'52.0\"\n",
      "[3]  HC+ =>  ALT (MC_GET_POSITION):  \n",
      "[6]  ALT =>  HC+ (MC_GET_POSITION):  023°58'18.4\"\n",
      "[6]  HC+ =>  AZM (MC_SET_POS_GUIDERATE):  000°14'45.6\"\n",
      "[3]  AZM =>  HC+ (MC_SET_POS_GUIDERATE):  \n",
      "[6]  HC+ =>  ALT (MC_SET_POS_GUIDERATE):  000°12'42.5\"\n",
      "[3]  ALT =>  HC+ (MC_SET_POS_GUIDERATE):  \n",
      "[3]  HC+ =>  AZM (MC_GET_POSITION):  \n",
      "[6]  AZM =>  HC+ (MC_GET_POSITION):  085°42'28.7\"\n",
      "[3]  HC+ =>  ALT (MC_GET_POSITION):  \n",
      "[6]  ALT =>  HC+ (MC_GET_POSITION):  024°03'08.4\"\n",
      "[6]  HC+ =>  AZM (MC_SET_POS_GUIDERATE):  000°14'46.1\"\n",
      "[3]  AZM =>  HC+ (MC_SET_POS_GUIDERATE):  \n",
      "[6]  HC+ =>  ALT (MC_SET_POS_GUIDERATE):  000°12'42.7\"\n",
      "[3]  ALT =>  HC+ (MC_SET_POS_GUIDERATE):  \n",
      "[6]  HC+ =>  AZM (MC_SET_POS_GUIDERATE):  000°00'00.0\"\n",
      "[3]  AZM =>  HC+ (MC_SET_POS_GUIDERATE):  \n",
      "[6]  HC+ =>  ALT (MC_SET_POS_GUIDERATE):  000°00'00.0\"\n",
      "[3]  ALT =>  HC+ (MC_SET_POS_GUIDERATE):  \n",
      "[3]  HC+ =>  AZM (MC_GET_POSITION):  \n",
      "[6]  AZM =>  HC+ (MC_GET_POSITION):  085°45'06.2\"\n",
      "[3]  HC+ =>  ALT (MC_GET_POSITION):  \n",
      "[6]  ALT =>  HC+ (MC_GET_POSITION):  024°05'24.0\"\n",
      "[6]  HC+ =>  AZM (MC_SET_POS_GUIDERATE):  000°14'43.9\"\n",
      "[3]  AZM =>  HC+ (MC_SET_POS_GUIDERATE):  \n",
      "[6]  HC+ =>  ALT (MC_SET_POS_GUIDERATE):  000°12'40.6\"\n",
      "[3]  ALT =>  HC+ (MC_SET_POS_GUIDERATE):  \n",
      "[3]  HC+ =>  AZM (MC_GET_POSITION):  \n",
      "[6]  AZM =>  HC+ (MC_GET_POSITION):  085°50'41.7\"\n",
      "[3]  HC+ =>  ALT (MC_GET_POSITION):  \n",
      "[6]  ALT =>  HC+ (MC_GET_POSITION):  024°10'12.6\"\n",
      "[6]  HC+ =>  AZM (MC_SET_POS_GUIDERATE):  000°14'44.3\"\n",
      "[3]  AZM =>  HC+ (MC_SET_POS_GUIDERATE):  \n",
      "[6]  HC+ =>  ALT (MC_SET_POS_GUIDERATE):  000°12'40.7\"\n",
      "[3]  ALT =>  HC+ (MC_SET_POS_GUIDERATE):  \n",
      "[3]  HC+ =>  AZM (MC_GET_POSITION):  \n",
      "[6]  AZM =>  HC+ (MC_GET_POSITION):  085°56'17.9\"\n",
      "[3]  HC+ =>  ALT (MC_GET_POSITION):  \n",
      "[6]  ALT =>  HC+ (MC_GET_POSITION):  024°15'01.9\"\n",
      "[6]  HC+ =>  AZM (MC_SET_POS_GUIDERATE):  000°14'44.8\"\n",
      "[3]  AZM =>  HC+ (MC_SET_POS_GUIDERATE):  \n",
      "[6]  HC+ =>  ALT (MC_SET_POS_GUIDERATE):  000°12'40.7\"\n",
      "[3]  ALT =>  HC+ (MC_SET_POS_GUIDERATE):  \n",
      "[3]  HC+ =>  AZM (MC_GET_POSITION):  \n",
      "[6]  AZM =>  HC+ (MC_GET_POSITION):  086°01'54.4\"\n",
      "[3]  HC+ =>  ALT (MC_GET_POSITION):  \n",
      "[6]  ALT =>  HC+ (MC_GET_POSITION):  024°19'51.1\"\n",
      "[6]  HC+ =>  AZM (MC_SET_POS_GUIDERATE):  000°14'45.3\"\n",
      "[3]  AZM =>  HC+ (MC_SET_POS_GUIDERATE):  \n",
      "[6]  HC+ =>  ALT (MC_SET_POS_GUIDERATE):  000°12'40.9\"\n",
      "[3]  ALT =>  HC+ (MC_SET_POS_GUIDERATE):  \n"
     ]
    },
    {
     "ename": "KeyboardInterrupt",
     "evalue": "",
     "output_type": "error",
     "traceback": [
      "\u001b[1;31m---------------------------------------------------------------------------\u001b[0m",
      "\u001b[1;31mKeyboardInterrupt\u001b[0m                         Traceback (most recent call last)",
      "\u001b[1;32m<ipython-input-46-41a8f2b937b1>\u001b[0m in \u001b[0;36m<module>\u001b[1;34m()\u001b[0m\n\u001b[0;32m      1\u001b[0m \u001b[1;32mwhile\u001b[0m \u001b[0mTrue\u001b[0m \u001b[1;33m:\u001b[0m\u001b[1;33m\u001b[0m\u001b[0m\n\u001b[1;32m----> 2\u001b[1;33m     \u001b[1;32mfor\u001b[0m \u001b[0mm\u001b[0m \u001b[1;32min\u001b[0m \u001b[0mrcv_msg\u001b[0m\u001b[1;33m(\u001b[0m\u001b[0ms\u001b[0m\u001b[1;33m,\u001b[0m\u001b[1;34m'ANY'\u001b[0m\u001b[1;33m)\u001b[0m\u001b[1;33m:\u001b[0m\u001b[1;33m\u001b[0m\u001b[0m\n\u001b[0m\u001b[0;32m      3\u001b[0m         \u001b[0mprint_msg\u001b[0m\u001b[1;33m(\u001b[0m\u001b[1;33m*\u001b[0m\u001b[0mm\u001b[0m\u001b[1;33m)\u001b[0m\u001b[1;33m\u001b[0m\u001b[0m\n\u001b[0;32m      4\u001b[0m         \u001b[1;32mprint\u001b[0m\u001b[1;33m\u001b[0m\u001b[0m\n\u001b[0;32m      5\u001b[0m     \u001b[0msys\u001b[0m\u001b[1;33m.\u001b[0m\u001b[0mstdout\u001b[0m\u001b[1;33m.\u001b[0m\u001b[0mflush\u001b[0m\u001b[1;33m(\u001b[0m\u001b[1;33m)\u001b[0m\u001b[1;33m\u001b[0m\u001b[0m\n",
      "\u001b[1;32m<ipython-input-38-15c5b278c9a2>\u001b[0m in \u001b[0;36mrcv_msg\u001b[1;34m(sck, trg, debug)\u001b[0m\n\u001b[0;32m    133\u001b[0m \u001b[1;33m\u001b[0m\u001b[0m\n\u001b[0;32m    134\u001b[0m \u001b[1;32mdef\u001b[0m \u001b[0mrcv_msg\u001b[0m\u001b[1;33m(\u001b[0m\u001b[0msck\u001b[0m\u001b[1;33m,\u001b[0m \u001b[0mtrg\u001b[0m\u001b[1;33m=\u001b[0m\u001b[1;34m'NET'\u001b[0m\u001b[1;33m,\u001b[0m \u001b[0mdebug\u001b[0m\u001b[1;33m=\u001b[0m\u001b[0mFalse\u001b[0m\u001b[1;33m)\u001b[0m\u001b[1;33m:\u001b[0m\u001b[1;33m\u001b[0m\u001b[0m\n\u001b[1;32m--> 135\u001b[1;33m     \u001b[0mr\u001b[0m \u001b[1;33m=\u001b[0m \u001b[0msck\u001b[0m\u001b[1;33m.\u001b[0m\u001b[0mrecv\u001b[0m\u001b[1;33m(\u001b[0m\u001b[1;36m4096\u001b[0m\u001b[1;33m)\u001b[0m\u001b[1;33m\u001b[0m\u001b[0m\n\u001b[0m\u001b[0;32m    136\u001b[0m     \u001b[1;31m#dprint(r)\u001b[0m\u001b[1;33m\u001b[0m\u001b[1;33m\u001b[0m\u001b[0m\n\u001b[0;32m    137\u001b[0m     \u001b[0mwe\u001b[0m\u001b[1;33m=\u001b[0m\u001b[0mord\u001b[0m\u001b[1;33m(\u001b[0m\u001b[0mtargets\u001b[0m\u001b[1;33m[\u001b[0m\u001b[0mtrg\u001b[0m\u001b[1;33m]\u001b[0m\u001b[1;33m)\u001b[0m\u001b[1;33m\u001b[0m\u001b[0m\n",
      "\u001b[1;31mKeyboardInterrupt\u001b[0m: "
     ]
    }
   ],
   "source": [
    "while True :\n",
    "    for m in rcv_msg(s,'ANY'):\n",
    "        print_msg(*m)\n",
    "        print\n",
    "    sys.stdout.flush()\n",
    "    time.sleep(0.05)"
   ]
  },
  {
   "cell_type": "code",
   "execution_count": 45,
   "metadata": {
    "collapsed": false
   },
   "outputs": [
    {
     "data": {
      "text/plain": [
       "3000"
      ]
     },
     "execution_count": 45,
     "metadata": {},
     "output_type": "execute_result"
    }
   ],
   "source": [
    "struct.unpack('!i','\\x00\\x00\\x0b\\xb8')[0]"
   ]
  },
  {
   "cell_type": "code",
   "execution_count": 69,
   "metadata": {
    "collapsed": false
   },
   "outputs": [
    {
     "name": "stdout",
     "output_type": "stream",
     "text": [
      "Parse ERROR: 0x06 0x10 0x0d 0x01 0x47 0xc3\n",
      "0x3b\n",
      "Parse ERROR: 0x97\n",
      "0x3b\n",
      "Parse ERROR: 0x03 0x0d 0x10 0x01\n",
      "[]\n",
      "Parse ERROR: 0x06 0x10 0x0d 0x01 0x48\n",
      "[]\n"
     ]
    }
   ],
   "source": [
    "send_cmd(s,src='APP',trg='AZM',cmd='GET_VER')\n",
    "print rcv_msg(s,trg='APP')\n",
    "time.sleep(0.1)\n",
    "send_cmd(s,src='APP',trg='ALT',cmd='GET_VER')\n",
    "print rcv_msg(s,trg='APP')"
   ]
  },
  {
   "cell_type": "code",
   "execution_count": 64,
   "metadata": {
    "collapsed": false
   },
   "outputs": [
    {
     "name": "stdout",
     "output_type": "stream",
     "text": [
      "[3]  APP =>  AZM (MC_GET_AUTOGUIDE_RATE): \n",
      "\n",
      "[4] 10 => 20 (f0):  0x47\n",
      "\n",
      "[4]  APP =>  AZM (MC_SET_AUTOGUIDE_RATE):  0x80\n",
      "\n",
      "[4] 10 => 20 (f0):  0x46\n",
      "\n",
      "[3]  APP =>  AZM (MC_GET_AUTOGUIDE_RATE): \n",
      "\n",
      "[4] 10 => 20 (f0):  0x47\n",
      "\n"
     ]
    }
   ],
   "source": [
    "send_cmd(s,src='APP',trg='AZM',cmd='MC_GET_AUTOGUIDE_RATE')\n",
    "time.sleep(0.1)\n",
    "for m in rcv_msg(s,'APP'):\n",
    "    print_msg(*m)\n",
    "    print\n",
    "time.sleep(0.1)    \n",
    "send_cmd(s,src='APP',trg='AZM',cmd='MC_SET_AUTOGUIDE_RATE',data='\\x80')\n",
    "time.sleep(0.1)\n",
    "for m in rcv_msg(s,'APP'):\n",
    "    print_msg(*m)\n",
    "    print\n",
    "time.sleep(0.1)    \n",
    "send_cmd(s,src='APP',trg='AZM',cmd='MC_GET_AUTOGUIDE_RATE')\n",
    "time.sleep(0.1)\n",
    "for m in rcv_msg(s,'APP'):\n",
    "    print_msg(*m)\n",
    "    print"
   ]
  },
  {
   "cell_type": "code",
   "execution_count": 24,
   "metadata": {
    "collapsed": false
   },
   "outputs": [
    {
     "data": {
      "text/plain": [
       "[[3, 32, 13, 254, '']]"
      ]
     },
     "execution_count": 24,
     "metadata": {},
     "output_type": "execute_result"
    }
   ],
   "source": [
    "send_cmd(s,src='NET',trg='HC+',cmd='GET_VER')\n",
    "rcv_msg(s,trg='ANY')"
   ]
  },
  {
   "cell_type": "code",
   "execution_count": 277,
   "metadata": {
    "collapsed": false
   },
   "outputs": [
    {
     "data": {
      "text/plain": [
       "[[3, 32, 17, 1, ''], [6, 17, 32, 1, '\\x00\\x00\\x00']]"
      ]
     },
     "execution_count": 277,
     "metadata": {},
     "output_type": "execute_result"
    }
   ],
   "source": [
    "send_cmd(s,trg='AZM',cmd='MC_GET_POSITION')\n",
    "rcv_msg(s)\n",
    "send_cmd(s,trg='ALT',cmd='MC_GET_POSITION')\n",
    "rcv_msg(s)"
   ]
  },
  {
   "cell_type": "code",
   "execution_count": 287,
   "metadata": {
    "collapsed": false
   },
   "outputs": [
    {
     "name": "stdout",
     "output_type": "stream",
     "text": [
      "()\n"
     ]
    }
   ],
   "source": [
    "print get_ver(s,'HC')"
   ]
  },
  {
   "cell_type": "code",
   "execution_count": 279,
   "metadata": {
    "collapsed": false
   },
   "outputs": [
    {
     "data": {
      "text/plain": [
       "[[3, 32, 4, 1, '']]"
      ]
     },
     "execution_count": 279,
     "metadata": {},
     "output_type": "execute_result"
    }
   ],
   "source": [
    "send_cmd(s,trg='HC+',cmd='MC_GET_POSITION')\n",
    "rcv_msg(s)"
   ]
  },
  {
   "cell_type": "code",
   "execution_count": 289,
   "metadata": {
    "collapsed": false
   },
   "outputs": [
    {
     "name": "stdout",
     "output_type": "stream",
     "text": [
      "() () ('07', '0a', '10', '0d') ('07', '0a', '10', '0d')\n"
     ]
    }
   ],
   "source": [
    "print get_ver(s,'MB'), get_ver(s,'HC'), get_ver(s,'ALT'), get_ver(s,'AZM')"
   ]
  },
  {
   "cell_type": "code",
   "execution_count": 281,
   "metadata": {
    "collapsed": false
   },
   "outputs": [
    {
     "name": "stdout",
     "output_type": "stream",
     "text": [
      "AZM 000°00'00.0\" ALT +0°00'00.0\"\n"
     ]
    }
   ],
   "source": [
    "show_pos(s)\n",
    "sys.stdout.flush()"
   ]
  },
  {
   "cell_type": "code",
   "execution_count": 284,
   "metadata": {
    "collapsed": false
   },
   "outputs": [
    {
     "name": "stdout",
     "output_type": "stream",
     "text": [
      "AZM 000°00'00.0\" ALT +0°00'00.0\"\n"
     ]
    }
   ],
   "source": [
    "for i in range(10):\n",
    "    show_pos(s)\n",
    "    sys.stdout.flush()\n",
    "    time.sleep(1)"
   ]
  },
  {
   "cell_type": "code",
   "execution_count": 173,
   "metadata": {
    "collapsed": true
   },
   "outputs": [],
   "source": [
    "def goto(s,alt,azm,spd='FAST'):\n",
    "    al=int(alt*2**24)\n",
    "    az=int(azm*2**24)\n",
    "    cmd='MC_GOTO_'+spd\n",
    "    send_cmd(s,trg='ALT',cmd=cmd,data=struct.pack('!i',al)[1:])\n",
    "    time.sleep(0.1)\n",
    "    send_cmd(s,trg='AZM',cmd=cmd,data=struct.pack('!i',az)[1:])"
   ]
  },
  {
   "cell_type": "code",
   "execution_count": 241,
   "metadata": {
    "collapsed": true
   },
   "outputs": [],
   "source": [
    "goto(s,0.0,0.0,spd='FAST')"
   ]
  },
  {
   "cell_type": "code",
   "execution_count": 199,
   "metadata": {
    "collapsed": true
   },
   "outputs": [],
   "source": [
    "def frac_to_fp24(x):\n",
    "    return struct.pack('!i',int(abs(x)*2**24))[1:]\n",
    "\n",
    "def set_guiderate(s,altgr,azmgr):\n",
    "    ald='POS' if (altgr > 0) else 'NEG'\n",
    "    azd='POS' if (azmgr > 0) else 'NEG'\n",
    "    send_cmd(s,trg='ALT',cmd='MC_SET_'+ald+'_GUIDERATE',data=frac_to_fp24(altgr))\n",
    "    time.sleep(0.05)\n",
    "    send_cmd(s,trg='AZM',cmd='MC_SET_'+azd+'_GUIDERATE',data=frac_to_fp24(azmgr))    \n",
    "    time.sleep(0.05)\n"
   ]
  },
  {
   "cell_type": "code",
   "execution_count": 233,
   "metadata": {
    "collapsed": false
   },
   "outputs": [],
   "source": [
    "set_guiderate(s,0,0)"
   ]
  },
  {
   "cell_type": "code",
   "execution_count": 240,
   "metadata": {
    "collapsed": false
   },
   "outputs": [
    {
     "name": "stdout",
     "output_type": "stream",
     "text": [
      "[3] 20 => 11 (0b): \n",
      "[4] 11 => 20 (f0):  0x0b\n"
     ]
    },
    {
     "data": {
      "text/plain": [
       "[[3, 32, 17, 11, ''], [4, 17, 32, 240, '\\x0b']]"
      ]
     },
     "execution_count": 240,
     "metadata": {},
     "output_type": "execute_result"
    }
   ],
   "source": [
    "send_cmd(s,trg='ALT',cmd='MC_LEVEL_START')\n",
    "rcv_msg(s,debug=True)"
   ]
  },
  {
   "cell_type": "code",
   "execution_count": 104,
   "metadata": {
    "collapsed": false
   },
   "outputs": [
    {
     "data": {
      "text/plain": [
       "0.009731650352478027"
      ]
     },
     "execution_count": 104,
     "metadata": {},
     "output_type": "execute_result"
    }
   ],
   "source": [
    "struct.unpack('!i','\\x00\\x02\\x7d\\xc6')[0]/2**24"
   ]
  },
  {
   "cell_type": "code",
   "execution_count": 96,
   "metadata": {
    "collapsed": false
   },
   "outputs": [
    {
     "name": "stdout",
     "output_type": "stream",
     "text": [
      "0.00973148148148\n",
      "cb\n",
      "70\n",
      "1f\n",
      "3c\n",
      "\n"
     ]
    }
   ],
   "source": [
    "print((3+30/60+12/3600)/360)\n",
    "for c in struct.pack('f',(3+30/60+12/3600)/360):\n",
    "    print('%02x' % ord(c))\n",
    "print()"
   ]
  },
  {
   "cell_type": "code",
   "execution_count": 87,
   "metadata": {
    "collapsed": false
   },
   "outputs": [
    {
     "data": {
      "text/plain": [
       "[]"
      ]
     },
     "execution_count": 87,
     "metadata": {},
     "output_type": "execute_result"
    }
   ],
   "source": [
    "''.split()"
   ]
  },
  {
   "cell_type": "code",
   "execution_count": 103,
   "metadata": {
    "collapsed": false
   },
   "outputs": [
    {
     "name": "stdout",
     "output_type": "stream",
     "text": [
      "\n"
     ]
    }
   ],
   "source": [
    "a='\\x3b1aaaa\\x3b2bbbbb\\x3b3ccccc'"
   ]
  },
  {
   "cell_type": "code",
   "execution_count": 105,
   "metadata": {
    "collapsed": false
   },
   "outputs": [
    {
     "data": {
      "text/plain": [
       "['1aaaa', '2bbbbb', '3ccccc']"
      ]
     },
     "execution_count": 105,
     "metadata": {},
     "output_type": "execute_result"
    }
   ],
   "source": [
    "a.split('\\x3b')[1:]"
   ]
  },
  {
   "cell_type": "code",
   "execution_count": null,
   "metadata": {
    "collapsed": true
   },
   "outputs": [],
   "source": [
    "a.rfind()"
   ]
  },
  {
   "cell_type": "code",
   "execution_count": 143,
   "metadata": {
    "collapsed": false
   },
   "outputs": [
    {
     "data": {
      "text/plain": [
       "['1aaaa', '2bbbbb', '3cccc']"
      ]
     },
     "execution_count": 143,
     "metadata": {},
     "output_type": "execute_result"
    }
   ],
   "source": [
    "split_msgs(a)"
   ]
  },
  {
   "cell_type": "code",
   "execution_count": 142,
   "metadata": {
    "collapsed": false
   },
   "outputs": [
    {
     "data": {
      "text/plain": [
       "';1aaaa;2bbbbb;3ccccc'"
      ]
     },
     "execution_count": 142,
     "metadata": {},
     "output_type": "execute_result"
    }
   ],
   "source": [
    "a"
   ]
  },
  {
   "cell_type": "code",
   "execution_count": 126,
   "metadata": {
    "collapsed": false
   },
   "outputs": [
    {
     "name": "stdout",
     "output_type": "stream",
     "text": [
      "3b 31 61 61 61 61 3b 32 62 62 62 62 62 3b 33 63 63 63 63 63\n"
     ]
    }
   ],
   "source": [
    "for c in a:\n",
    "    print '%02x' % ord(c) ,"
   ]
  },
  {
   "cell_type": "code",
   "execution_count": null,
   "metadata": {
    "collapsed": true
   },
   "outputs": [],
   "source": []
  }
 ],
 "metadata": {
  "kernelspec": {
   "display_name": "Python 2",
   "language": "python",
   "name": "python2"
  },
  "language_info": {
   "codemirror_mode": {
    "name": "ipython",
    "version": 2
   },
   "file_extension": ".py",
   "mimetype": "text/x-python",
   "name": "python",
   "nbconvert_exporter": "python",
   "pygments_lexer": "ipython2",
   "version": "2.7.9"
  }
 },
 "nbformat": 4,
 "nbformat_minor": 0
}
